{
 "cells": [
  {
   "cell_type": "markdown",
   "id": "26a86637-1bce-4ac4-bfc5-fb8d166354b6",
   "metadata": {},
   "source": [
    "# Dictionary\n",
    "# {key1:value1,key2:value2}\n",
    "\n",
    "## - Dictionary is key:value pair\n",
    "## - at value position we can take any data type\n",
    "## - at keys position ===> list and dictionary will fail\n",
    "## - Duplicates are not allowed\n",
    "## - If we upadate a key value,latest value it will take"
   ]
  },
  {
   "cell_type": "code",
   "execution_count": 2,
   "id": "424e3c3f-86b9-4b34-9e74-db0597d5d5ae",
   "metadata": {},
   "outputs": [],
   "source": [
    "# 20 nov"
   ]
  },
  {
   "cell_type": "code",
   "execution_count": 3,
   "id": "8a2c8cb4-94c7-4c02-8c49-feb8fd720eb1",
   "metadata": {},
   "outputs": [
    {
     "data": {
      "text/plain": [
       "{'a': 1, 'b': 2, 'c': 3, 'd': 4}"
      ]
     },
     "execution_count": 3,
     "metadata": {},
     "output_type": "execute_result"
    }
   ],
   "source": [
    "dict1={'a':1,'b':2,'c':3,'d':4}\n",
    "dict1"
   ]
  },
  {
   "cell_type": "code",
   "execution_count": null,
   "id": "f51c028e-4f19-43f2-9095-c441bac60e9e",
   "metadata": {},
   "outputs": [],
   "source": []
  },
  {
   "cell_type": "code",
   "execution_count": 6,
   "id": "c196562a-96eb-4b42-ba9b-041a08c2a3f3",
   "metadata": {},
   "outputs": [
    {
     "data": {
      "text/plain": [
       "{1: 'a', 2: 'b', 3: 'c', 4: 'd'}"
      ]
     },
     "execution_count": 6,
     "metadata": {},
     "output_type": "execute_result"
    }
   ],
   "source": [
    "dict2={1:'a',2:'b',3:'c',4:'d'}\n",
    "dict2"
   ]
  },
  {
   "cell_type": "code",
   "execution_count": null,
   "id": "119d3fd4-1333-4ef9-a30d-039ea8d21f51",
   "metadata": {},
   "outputs": [],
   "source": []
  },
  {
   "cell_type": "code",
   "execution_count": 7,
   "id": "e887b793-b38a-4b86-a602-e299f80d5a50",
   "metadata": {},
   "outputs": [
    {
     "data": {
      "text/plain": [
       "{'even': [2, 4, 6], 'odd': [1, 3, 5, 7]}"
      ]
     },
     "execution_count": 7,
     "metadata": {},
     "output_type": "execute_result"
    }
   ],
   "source": [
    "d3={'even':[2,4,6],'odd':[1,3,5,7]}\n",
    "d3"
   ]
  },
  {
   "cell_type": "code",
   "execution_count": 8,
   "id": "a21b7e50-7de4-4bf2-bb7a-45d2f7bb618f",
   "metadata": {},
   "outputs": [
    {
     "ename": "TypeError",
     "evalue": "unhashable type: 'list'",
     "output_type": "error",
     "traceback": [
      "\u001b[1;31m---------------------------------------------------------------------------\u001b[0m",
      "\u001b[1;31mTypeError\u001b[0m                                 Traceback (most recent call last)",
      "Cell \u001b[1;32mIn[8], line 1\u001b[0m\n\u001b[1;32m----> 1\u001b[0m d4\u001b[38;5;241m=\u001b[39m{[\u001b[38;5;241m2\u001b[39m,\u001b[38;5;241m4\u001b[39m,\u001b[38;5;241m6\u001b[39m]:\u001b[38;5;124m'\u001b[39m\u001b[38;5;124meven\u001b[39m\u001b[38;5;124m'\u001b[39m,[\u001b[38;5;241m1\u001b[39m,\u001b[38;5;241m3\u001b[39m,\u001b[38;5;241m5\u001b[39m]:\u001b[38;5;124m'\u001b[39m\u001b[38;5;124modd\u001b[39m\u001b[38;5;124m'\u001b[39m}\n",
      "\u001b[1;31mTypeError\u001b[0m: unhashable type: 'list'"
     ]
    }
   ],
   "source": [
    "d4={[2,4,6]:'even',[1,3,5]:'odd'}                     # list is failing"
   ]
  },
  {
   "cell_type": "code",
   "execution_count": 10,
   "id": "3dd1d914-2aa8-4545-ad3f-378975b248f2",
   "metadata": {},
   "outputs": [
    {
     "data": {
      "text/plain": [
       "{(2, 4, 6): 'even', (1, 3, 5): 'odd'}"
      ]
     },
     "execution_count": 10,
     "metadata": {},
     "output_type": "execute_result"
    }
   ],
   "source": [
    "d4={(2,4,6):'even',(1,3,5):'odd'}                   # tuple works\n",
    "d4"
   ]
  },
  {
   "cell_type": "code",
   "execution_count": null,
   "id": "18ac5880-9318-4b33-8441-cd905da6995e",
   "metadata": {},
   "outputs": [],
   "source": []
  },
  {
   "cell_type": "markdown",
   "id": "ea54c267-2d67-471e-ba30-b0913bf75b93",
   "metadata": {},
   "source": [
    "# dictionary in dictionary"
   ]
  },
  {
   "cell_type": "code",
   "execution_count": 12,
   "id": "0f6d5a0e-752a-47be-89f7-a3b4699867a5",
   "metadata": {},
   "outputs": [
    {
     "data": {
      "text/plain": [
       "{'item_1': {'fruits': 'Apple'}}"
      ]
     },
     "execution_count": 12,
     "metadata": {},
     "output_type": "execute_result"
    }
   ],
   "source": [
    "d5={'item_1':{'fruits':'Apple'}}\n",
    "d5"
   ]
  },
  {
   "cell_type": "code",
   "execution_count": null,
   "id": "8892cbf9-bdf0-4a81-87aa-289b0203e539",
   "metadata": {},
   "outputs": [],
   "source": []
  },
  {
   "cell_type": "code",
   "execution_count": 15,
   "id": "915d3cd5-a5e1-40f7-9289-22404429a695",
   "metadata": {},
   "outputs": [
    {
     "data": {
      "text/plain": [
       "{'a': 3, 'b': 2}"
      ]
     },
     "execution_count": 15,
     "metadata": {},
     "output_type": "execute_result"
    }
   ],
   "source": [
    "d1={'a':1,'b':2,'a':3}\n",
    "d1                                  # 3 duplicates are not allowed so value got updated"
   ]
  },
  {
   "cell_type": "code",
   "execution_count": null,
   "id": "a0d57cb6-f082-4515-800f-f6ea771dd824",
   "metadata": {},
   "outputs": [],
   "source": []
  },
  {
   "cell_type": "code",
   "execution_count": 16,
   "id": "e9d56dc0-f496-4ce0-aa68-d12cf59ade44",
   "metadata": {},
   "outputs": [
    {
     "data": {
      "text/plain": [
       "dict"
      ]
     },
     "execution_count": 16,
     "metadata": {},
     "output_type": "execute_result"
    }
   ],
   "source": [
    "type(d1)"
   ]
  },
  {
   "cell_type": "code",
   "execution_count": null,
   "id": "b71563c7-6d50-4430-911a-af754f4d212a",
   "metadata": {},
   "outputs": [],
   "source": []
  },
  {
   "cell_type": "markdown",
   "id": "b428d1ee-8d28-4541-a60c-1e3d2bbb3ded",
   "metadata": {},
   "source": [
    "# max() min() ==> only based on key"
   ]
  },
  {
   "cell_type": "code",
   "execution_count": 17,
   "id": "23fb6811-ae5f-4535-92b0-752dd4afc72b",
   "metadata": {},
   "outputs": [
    {
     "data": {
      "text/plain": [
       "{'a': 1, 'b': 2, 'c': 3, 'd': 4}"
      ]
     },
     "execution_count": 17,
     "metadata": {},
     "output_type": "execute_result"
    }
   ],
   "source": [
    "dict1={'a':1,'b':2,'c':3,'d':4}\n",
    "dict1"
   ]
  },
  {
   "cell_type": "code",
   "execution_count": 18,
   "id": "cf290424-5787-4cd4-94d1-13c4e0a4ee92",
   "metadata": {},
   "outputs": [
    {
     "data": {
      "text/plain": [
       "'d'"
      ]
     },
     "execution_count": 18,
     "metadata": {},
     "output_type": "execute_result"
    }
   ],
   "source": [
    "max(dict1)"
   ]
  },
  {
   "cell_type": "code",
   "execution_count": 19,
   "id": "53a3ec31-b4d3-4343-ae7a-e72144189606",
   "metadata": {},
   "outputs": [
    {
     "data": {
      "text/plain": [
       "'a'"
      ]
     },
     "execution_count": 19,
     "metadata": {},
     "output_type": "execute_result"
    }
   ],
   "source": [
    "min(dict1)"
   ]
  },
  {
   "cell_type": "code",
   "execution_count": null,
   "id": "3c098b1b-7be7-498c-9b56-192e9505fbaf",
   "metadata": {},
   "outputs": [],
   "source": []
  },
  {
   "cell_type": "markdown",
   "id": "5011e984-1556-44e4-b713-f95e6ddc7c2d",
   "metadata": {},
   "source": [
    "# len() "
   ]
  },
  {
   "cell_type": "code",
   "execution_count": 21,
   "id": "b3a95aa3-a418-4abd-a3d8-c080d2af481a",
   "metadata": {},
   "outputs": [
    {
     "data": {
      "text/plain": [
       "4"
      ]
     },
     "execution_count": 21,
     "metadata": {},
     "output_type": "execute_result"
    }
   ],
   "source": [
    "len(dict1)"
   ]
  },
  {
   "cell_type": "code",
   "execution_count": null,
   "id": "09052fb3-4c6a-4d38-9365-e20ff4d22f77",
   "metadata": {},
   "outputs": [],
   "source": []
  },
  {
   "cell_type": "markdown",
   "id": "81d8d6f9-44b3-40ca-bbb4-984f6b47dd2e",
   "metadata": {},
   "source": [
    "# sum() ======> based on key"
   ]
  },
  {
   "cell_type": "code",
   "execution_count": 22,
   "id": "8c07be3a-cf73-4925-93de-6f9dabcff94f",
   "metadata": {},
   "outputs": [
    {
     "data": {
      "text/plain": [
       "{1: 'a', 2: 'b', 3: 'c'}"
      ]
     },
     "execution_count": 22,
     "metadata": {},
     "output_type": "execute_result"
    }
   ],
   "source": [
    "d2={1:'a',2:'b',3:'c'}\n",
    "d2"
   ]
  },
  {
   "cell_type": "code",
   "execution_count": 23,
   "id": "7c62ab90-326b-4b70-85ba-95b2840b9edd",
   "metadata": {},
   "outputs": [
    {
     "data": {
      "text/plain": [
       "6"
      ]
     },
     "execution_count": 23,
     "metadata": {},
     "output_type": "execute_result"
    }
   ],
   "source": [
    "sum(d2)"
   ]
  },
  {
   "cell_type": "code",
   "execution_count": null,
   "id": "ea43f8e7-e420-44da-8733-9d823a745426",
   "metadata": {},
   "outputs": [],
   "source": []
  },
  {
   "cell_type": "markdown",
   "id": "4a3a61cf-4122-491a-8a01-ff6f33a706dd",
   "metadata": {},
   "source": [
    "# in"
   ]
  },
  {
   "cell_type": "code",
   "execution_count": 24,
   "id": "981a7b5d-1fad-440e-9eeb-ed3b9152a57f",
   "metadata": {},
   "outputs": [
    {
     "data": {
      "text/plain": [
       "{'a': 1, 'b': 2, 'c': 3, 'd': 4}"
      ]
     },
     "execution_count": 24,
     "metadata": {},
     "output_type": "execute_result"
    }
   ],
   "source": [
    "dict1={'a':1,'b':2,'c':3,'d':4}\n",
    "dict1"
   ]
  },
  {
   "cell_type": "code",
   "execution_count": 29,
   "id": "16936db4-ab27-4111-8e75-2da2d6f21007",
   "metadata": {},
   "outputs": [
    {
     "name": "stdout",
     "output_type": "stream",
     "text": [
      "key is a and value is 1\n",
      "key is b and value is 2\n",
      "key is c and value is 3\n",
      "key is d and value is 4\n"
     ]
    }
   ],
   "source": [
    "for i in dict1:\n",
    "    print(\"key is {} and value is {}\".format(i,dict1[i]))"
   ]
  },
  {
   "cell_type": "code",
   "execution_count": null,
   "id": "061b9ccc-3348-482e-b58d-3055b2c76945",
   "metadata": {},
   "outputs": [],
   "source": []
  },
  {
   "cell_type": "markdown",
   "id": "d3e01dc6-3563-44d8-8585-86f42c28a4c3",
   "metadata": {},
   "source": [
    "# index"
   ]
  },
  {
   "cell_type": "code",
   "execution_count": 27,
   "id": "e812e405-f646-4246-83d2-fd479683d886",
   "metadata": {},
   "outputs": [
    {
     "data": {
      "text/plain": [
       "2"
      ]
     },
     "execution_count": 27,
     "metadata": {},
     "output_type": "execute_result"
    }
   ],
   "source": [
    "dict1['b']"
   ]
  },
  {
   "cell_type": "code",
   "execution_count": null,
   "id": "c477314c-992d-4109-8e7f-33b833fc74bf",
   "metadata": {},
   "outputs": [],
   "source": []
  },
  {
   "cell_type": "markdown",
   "id": "3d8521bb-2768-4535-ae01-ce9ff67bc060",
   "metadata": {},
   "source": [
    "# Creating a empty list and updating"
   ]
  },
  {
   "cell_type": "code",
   "execution_count": 30,
   "id": "2995770b-f582-4ab9-84dd-cae9b3435def",
   "metadata": {},
   "outputs": [
    {
     "data": {
      "text/plain": [
       "{'a': 'abc'}"
      ]
     },
     "execution_count": 30,
     "metadata": {},
     "output_type": "execute_result"
    }
   ],
   "source": [
    "d1={}\n",
    "d1['a']='abc'\n",
    "d1"
   ]
  },
  {
   "cell_type": "code",
   "execution_count": null,
   "id": "0853feea-8139-4ea1-90df-2d68f86a6fe8",
   "metadata": {},
   "outputs": [],
   "source": []
  },
  {
   "cell_type": "code",
   "execution_count": 31,
   "id": "55a7bf79-bd71-422d-b57f-a7dbf71c65a7",
   "metadata": {},
   "outputs": [],
   "source": [
    "# WAP to create a dictionary based on two lists"
   ]
  },
  {
   "cell_type": "code",
   "execution_count": 32,
   "id": "506f7fbf-0cf8-497b-b687-9b788575742e",
   "metadata": {},
   "outputs": [],
   "source": [
    "list1=['a','b','c']\n",
    "list2=[3,4,5]"
   ]
  },
  {
   "cell_type": "code",
   "execution_count": 40,
   "id": "c3453a5d-43e0-4824-b4d3-99637af1c099",
   "metadata": {},
   "outputs": [
    {
     "name": "stdout",
     "output_type": "stream",
     "text": [
      "{'a': 3}\n",
      "{'b': 4}\n",
      "{'c': 5}\n"
     ]
    }
   ],
   "source": [
    "dict1={}\n",
    "for i,j in zip(list1,list2):          # =====> i have done wrong\n",
    "    dict1={i:j}\n",
    "    print(dict1)"
   ]
  },
  {
   "cell_type": "code",
   "execution_count": 43,
   "id": "bbde617c-9235-4b7a-9f00-69da35f7e4e6",
   "metadata": {},
   "outputs": [
    {
     "data": {
      "text/plain": [
       "{'a': 3, 'b': 4, 'c': 5}"
      ]
     },
     "execution_count": 43,
     "metadata": {},
     "output_type": "execute_result"
    }
   ],
   "source": [
    "# correct way\n",
    "dict1={}\n",
    "for i in range(len(list1)):\n",
    "    dict1[list1[i]]=list2[i]\n",
    "dict1"
   ]
  },
  {
   "cell_type": "code",
   "execution_count": null,
   "id": "64207928-4b5e-4164-8bd8-30b53429034f",
   "metadata": {},
   "outputs": [],
   "source": []
  },
  {
   "cell_type": "markdown",
   "id": "99e275c5-d51b-4a95-a460-f5f7d2cb7513",
   "metadata": {},
   "source": [
    "# dictionary comprehension"
   ]
  },
  {
   "cell_type": "code",
   "execution_count": 44,
   "id": "106526e1-4ea8-48b4-a16d-36180e16c542",
   "metadata": {},
   "outputs": [
    {
     "data": {
      "text/plain": [
       "{'a': 3, 'b': 4, 'c': 5}"
      ]
     },
     "execution_count": 44,
     "metadata": {},
     "output_type": "execute_result"
    }
   ],
   "source": [
    "dict1={}\n",
    "for i in range(len(list1)):\n",
    "    dict1[list1[i]]=list2[i]\n",
    "dict1"
   ]
  },
  {
   "cell_type": "code",
   "execution_count": 46,
   "id": "fcf632c5-c47d-49d5-b726-85f2ad0f3784",
   "metadata": {},
   "outputs": [
    {
     "data": {
      "text/plain": [
       "{'a': 3, 'b': 4, 'c': 5}"
      ]
     },
     "execution_count": 46,
     "metadata": {},
     "output_type": "execute_result"
    }
   ],
   "source": [
    "dict1={list1[i]:list2[i] for i in range(len(list1))}\n",
    "dict1"
   ]
  },
  {
   "cell_type": "code",
   "execution_count": 49,
   "id": "49e7ae88-4889-4d05-8ffe-ef2952a5fe3f",
   "metadata": {},
   "outputs": [
    {
     "data": {
      "text/plain": [
       "{'a': 3, 'b': 4, 'c': 5}"
      ]
     },
     "execution_count": 49,
     "metadata": {},
     "output_type": "execute_result"
    }
   ],
   "source": [
    "# using zip\n",
    "dict1={list1:list2 for list1,list2 in zip(list1,list2)}\n",
    "dict1"
   ]
  },
  {
   "cell_type": "code",
   "execution_count": null,
   "id": "a8a24825-c0ed-4b79-a187-736ca6514764",
   "metadata": {},
   "outputs": [],
   "source": []
  },
  {
   "cell_type": "code",
   "execution_count": 51,
   "id": "53c1df3c-54e3-4971-96cc-558d8421fdc6",
   "metadata": {},
   "outputs": [],
   "source": [
    "# WAp take 5 random no.s and create a dictionary with even or odd\n",
    "# output:{'even':[20,22],'odd':[11,13,15]}"
   ]
  },
  {
   "cell_type": "code",
   "execution_count": 57,
   "id": "c56af52d-b470-4fb1-8fd6-313e091c1a3f",
   "metadata": {},
   "outputs": [
    {
     "name": "stdout",
     "output_type": "stream",
     "text": [
      "{'even': [2, 20, 8], 'odd': [23, 13]}\n"
     ]
    }
   ],
   "source": [
    "import random\n",
    "random_no=[random.randint(1,30) for i in range(5) ]\n",
    "even_no=[]\n",
    "odd_no=[]\n",
    "for j in random_no:\n",
    "    if j%2==0:\n",
    "        even_no.append(j)\n",
    "    else:\n",
    "        odd_no.append(j)\n",
    "\n",
    "result={'even':even_no,'odd':odd_no}\n",
    "print(result)\n",
    "    \n",
    "    \n"
   ]
  },
  {
   "cell_type": "code",
   "execution_count": 56,
   "id": "be7a7a04-7d0f-40aa-b77b-7cbb2902c9a7",
   "metadata": {},
   "outputs": [],
   "source": [
    "# 21 nov"
   ]
  },
  {
   "cell_type": "markdown",
   "id": "2de8a5f3-00ff-4ad7-9cfc-1e1675815e63",
   "metadata": {},
   "source": [
    "# dictionary methods"
   ]
  },
  {
   "cell_type": "code",
   "execution_count": 59,
   "id": "54d62988-406f-47d9-b4c7-bdbc4800f08e",
   "metadata": {},
   "outputs": [
    {
     "data": {
      "text/plain": [
       "['__class__',\n",
       " '__class_getitem__',\n",
       " '__contains__',\n",
       " '__delattr__',\n",
       " '__delitem__',\n",
       " '__dir__',\n",
       " '__doc__',\n",
       " '__eq__',\n",
       " '__format__',\n",
       " '__ge__',\n",
       " '__getattribute__',\n",
       " '__getitem__',\n",
       " '__gt__',\n",
       " '__hash__',\n",
       " '__init__',\n",
       " '__init_subclass__',\n",
       " '__ior__',\n",
       " '__iter__',\n",
       " '__le__',\n",
       " '__len__',\n",
       " '__lt__',\n",
       " '__ne__',\n",
       " '__new__',\n",
       " '__or__',\n",
       " '__reduce__',\n",
       " '__reduce_ex__',\n",
       " '__repr__',\n",
       " '__reversed__',\n",
       " '__ror__',\n",
       " '__setattr__',\n",
       " '__setitem__',\n",
       " '__sizeof__',\n",
       " '__str__',\n",
       " '__subclasshook__',\n",
       " 'clear',\n",
       " 'copy',\n",
       " 'fromkeys',\n",
       " 'get',\n",
       " 'items',\n",
       " 'keys',\n",
       " 'pop',\n",
       " 'popitem',\n",
       " 'setdefault',\n",
       " 'update',\n",
       " 'values']"
      ]
     },
     "execution_count": 59,
     "metadata": {},
     "output_type": "execute_result"
    }
   ],
   "source": [
    "dir({})"
   ]
  },
  {
   "cell_type": "code",
   "execution_count": null,
   "id": "d7442c41-23c7-4b90-be2c-598087bb5d9b",
   "metadata": {},
   "outputs": [],
   "source": []
  },
  {
   "cell_type": "code",
   "execution_count": 60,
   "id": "6162ed70-f635-4684-8f2d-d17f6ba9c340",
   "metadata": {},
   "outputs": [
    {
     "data": {
      "text/plain": [
       "{'a': 1, 'b': 2, 'c': 3, 'd': 4}"
      ]
     },
     "execution_count": 60,
     "metadata": {},
     "output_type": "execute_result"
    }
   ],
   "source": [
    "dict1={'a':1,'b':2,'c':3,'d':4}\n",
    "dict1"
   ]
  },
  {
   "cell_type": "markdown",
   "id": "b0ab8564-019a-445f-93be-8e665b0588f9",
   "metadata": {},
   "source": [
    "# items()"
   ]
  },
  {
   "cell_type": "code",
   "execution_count": 69,
   "id": "b2d52a14-6223-4a11-b03b-fc97aca8e7e2",
   "metadata": {},
   "outputs": [
    {
     "data": {
      "text/plain": [
       "dict_items([('a', 1), ('b', 2), ('c', 3), ('d', 4)])"
      ]
     },
     "execution_count": 69,
     "metadata": {},
     "output_type": "execute_result"
    }
   ],
   "source": [
    "items=dict1.items()\n",
    "items                                # ==> because of ([]) ===> it is not a list so you need to convert into list"
   ]
  },
  {
   "cell_type": "code",
   "execution_count": 70,
   "id": "42806cd9-9c86-4a1c-8eda-3493578d176d",
   "metadata": {},
   "outputs": [
    {
     "data": {
      "text/plain": [
       "dict_items"
      ]
     },
     "execution_count": 70,
     "metadata": {},
     "output_type": "execute_result"
    }
   ],
   "source": [
    "type(dict1.items())"
   ]
  },
  {
   "cell_type": "markdown",
   "id": "1df0c193-2092-4875-822b-a8567456c25f",
   "metadata": {},
   "source": [
    "# keys()"
   ]
  },
  {
   "cell_type": "code",
   "execution_count": 71,
   "id": "26d83ca0-84fd-4c6c-9113-14efcdd24c00",
   "metadata": {},
   "outputs": [
    {
     "data": {
      "text/plain": [
       "dict_keys(['a', 'b', 'c', 'd'])"
      ]
     },
     "execution_count": 71,
     "metadata": {},
     "output_type": "execute_result"
    }
   ],
   "source": [
    "keys=dict1.keys()\n",
    "keys                                 # ==> because of ([]) ===> it is not a list so you need to convert into list"
   ]
  },
  {
   "cell_type": "code",
   "execution_count": 72,
   "id": "971283fd-190b-4a7e-bf99-fcf9a8295f09",
   "metadata": {},
   "outputs": [
    {
     "data": {
      "text/plain": [
       "dict_keys"
      ]
     },
     "execution_count": 72,
     "metadata": {},
     "output_type": "execute_result"
    }
   ],
   "source": [
    "type(dict1.keys())"
   ]
  },
  {
   "cell_type": "code",
   "execution_count": null,
   "id": "dc43cc62-4f59-4223-be57-ddb6ef67b91f",
   "metadata": {},
   "outputs": [],
   "source": []
  },
  {
   "cell_type": "markdown",
   "id": "3c9a2555-3d58-49cd-95ca-e8540955ccca",
   "metadata": {},
   "source": [
    "## VVI Q"
   ]
  },
  {
   "cell_type": "code",
   "execution_count": 74,
   "id": "7830b5cd-ab64-450b-8f59-1f2012754bf6",
   "metadata": {},
   "outputs": [],
   "source": [
    "# Q1. i will give you a dictionary , can you extract keys and values in a list\n",
    "# Q2. I will give two lists can you create a dictionary"
   ]
  },
  {
   "cell_type": "code",
   "execution_count": 76,
   "id": "47f14425-72e9-408d-9b38-c50f6bcaa08a",
   "metadata": {},
   "outputs": [
    {
     "name": "stdout",
     "output_type": "stream",
     "text": [
      "['a', 'b', 'c', 'd']\n",
      "[1, 2, 3, 4]\n"
     ]
    }
   ],
   "source": [
    "# Q1. i will give you a dictionary , can you extract keys and values in a list\n",
    "dict1={'a':1,'b':2,'c':3,'d':4}\n",
    "dict1\n",
    "\n",
    "keys=list(dict1.keys())\n",
    "values=list(dict1.values())\n",
    "print(keys)\n",
    "print(values)"
   ]
  },
  {
   "cell_type": "code",
   "execution_count": 79,
   "id": "e284f2ee-0ed2-41a1-bba6-9af378c6d441",
   "metadata": {},
   "outputs": [
    {
     "data": {
      "text/plain": [
       "(['a', 'b', 'c', 'd'], [1, 2, 3, 4])"
      ]
     },
     "execution_count": 79,
     "metadata": {},
     "output_type": "execute_result"
    }
   ],
   "source": [
    "# Q2. I will give two lists can you create a dictionary\n",
    "keys,values"
   ]
  },
  {
   "cell_type": "code",
   "execution_count": 86,
   "id": "d4a8c1c1-4cf4-4f08-b7b7-6aab55d72523",
   "metadata": {
    "scrolled": true
   },
   "outputs": [
    {
     "data": {
      "text/plain": [
       "{'a': 1, 'b': 2, 'c': 3, 'd': 4}"
      ]
     },
     "execution_count": 86,
     "metadata": {},
     "output_type": "execute_result"
    }
   ],
   "source": [
    "dict2= {i:j for i,j in zip(keys,values)}\n",
    "dict2"
   ]
  },
  {
   "cell_type": "code",
   "execution_count": null,
   "id": "10e431bf-2eb1-440e-b79b-319550ff80bf",
   "metadata": {},
   "outputs": [],
   "source": []
  },
  {
   "cell_type": "code",
   "execution_count": 87,
   "id": "b87e88ec-8d1c-4f58-b0e6-3ee76f9e9739",
   "metadata": {},
   "outputs": [
    {
     "data": {
      "text/plain": [
       "{'a': 1, 'b': 2, 'c': 3, 'd': 4}"
      ]
     },
     "execution_count": 87,
     "metadata": {},
     "output_type": "execute_result"
    }
   ],
   "source": [
    "# using for\n",
    "for i in range(len(keys)):\n",
    "    d1[keys[i]]=values[i]\n",
    "d1"
   ]
  },
  {
   "cell_type": "code",
   "execution_count": 92,
   "id": "2287270f-b221-49c8-a227-8728c2727a49",
   "metadata": {},
   "outputs": [
    {
     "data": {
      "text/plain": [
       "{'a': 1, 'b': 2, 'c': 3, 'd': 4}"
      ]
     },
     "execution_count": 92,
     "metadata": {},
     "output_type": "execute_result"
    }
   ],
   "source": [
    "dict(zip(keys,values))"
   ]
  },
  {
   "cell_type": "code",
   "execution_count": null,
   "id": "8f9d8140-7ca8-4c2c-9ac2-035e2c7676c8",
   "metadata": {},
   "outputs": [],
   "source": []
  },
  {
   "cell_type": "code",
   "execution_count": 93,
   "id": "dc292f5e-5bb0-445e-9b5b-76ba066b6b03",
   "metadata": {},
   "outputs": [
    {
     "data": {
      "text/plain": [
       "'virat.kohli@blr.com,Rohit.sharma@mumbai.com,kl.rahul@lucknow.com'"
      ]
     },
     "execution_count": 93,
     "metadata": {},
     "output_type": "execute_result"
    }
   ],
   "source": [
    "s1='virat.kohli@blr.com,Rohit.sharma@mumbai.com,kl.rahul@lucknow.com'\n",
    "s1"
   ]
  },
  {
   "cell_type": "code",
   "execution_count": 94,
   "id": "decf3326-a78c-47de-b2af-fca35e746941",
   "metadata": {},
   "outputs": [],
   "source": [
    "#output should be:\n",
    "#{'first_name':['virat','Rohit','kl'],\n",
    "#'second_name':['kohli','sharma','rahul'],\n",
    "#'company':['blr','mumbai','lucknow']}"
   ]
  },
  {
   "cell_type": "code",
   "execution_count": 106,
   "id": "c8a21849-caa0-4f80-aa5f-953455ac8ba7",
   "metadata": {},
   "outputs": [
    {
     "data": {
      "text/plain": [
       "['virat.kohli@blr.com', 'Rohit.sharma@mumbai.com', 'kl.rahul@lucknow.com']"
      ]
     },
     "execution_count": 106,
     "metadata": {},
     "output_type": "execute_result"
    }
   ],
   "source": [
    "l1=s1.split(',')\n",
    "l1"
   ]
  },
  {
   "cell_type": "code",
   "execution_count": 124,
   "id": "bf58c6a9-7dd0-4a5a-826e-07dd8772e1b6",
   "metadata": {},
   "outputs": [
    {
     "name": "stdout",
     "output_type": "stream",
     "text": [
      "{'first_name': ['virat', 'Rohit', 'kl'], 'second_name': ['kohli', 'sharma', 'rahul'], 'company': ['blr', 'mumbai', 'lucknow']}\n"
     ]
    }
   ],
   "source": [
    "s1 = 'virat.kohli@blr.com,Rohit.sharma@mumbai.com,kl.rahul@lucknow.com'\n",
    "\n",
    "# Split the string by commas to separate each email\n",
    "emails = s1.split(',')\n",
    "\n",
    "# Initialize empty lists to store first name, second name, and company\n",
    "first_name = []\n",
    "second_name = []\n",
    "company = []\n",
    "\n",
    "# Loop through each email and extract the required parts\n",
    "for email in emails:\n",
    "    # Split the email by '@' and then by '.'\n",
    "    name_part, domain_part = email.split('@')\n",
    "    first, second = name_part.split('.')\n",
    "    \n",
    "    # Add to the respective lists\n",
    "    first_name.append(first)\n",
    "    second_name.append(second)\n",
    "    company.append(domain_part.split('.')[0])\n",
    "\n",
    "# Create the dictionary with the extracted data\n",
    "result = {\n",
    "    'first_name': first_name,\n",
    "    'second_name': second_name,\n",
    "    'company': company\n",
    "}\n",
    "\n",
    "print(result)\n"
   ]
  },
  {
   "cell_type": "code",
   "execution_count": 114,
   "id": "3c4316fb-4343-4de5-a3fe-394f0e21c139",
   "metadata": {},
   "outputs": [
    {
     "data": {
      "text/plain": [
       "['virat', 'Rohit', 'kl']"
      ]
     },
     "execution_count": 114,
     "metadata": {},
     "output_type": "execute_result"
    }
   ],
   "source": [
    "l2"
   ]
  },
  {
   "cell_type": "code",
   "execution_count": null,
   "id": "5f343c4e-ae2a-4764-8021-1ade42174274",
   "metadata": {},
   "outputs": [],
   "source": []
  },
  {
   "cell_type": "markdown",
   "id": "527ed857-207d-4ad5-b9a0-f86b9d975624",
   "metadata": {},
   "source": [
    "# word frequency problem"
   ]
  },
  {
   "cell_type": "code",
   "execution_count": 11,
   "id": "0aa34cb3-4d28-45e6-b20f-93a64ee93180",
   "metadata": {},
   "outputs": [],
   "source": [
    "str1='can can you canner can you able to can canner'\n",
    "\n",
    "# output== {'can':4,'you':2,'able':1,'to':1}"
   ]
  },
  {
   "cell_type": "code",
   "execution_count": 13,
   "id": "2473ac7b-1935-4209-a83b-76923a501df5",
   "metadata": {},
   "outputs": [
    {
     "data": {
      "text/plain": [
       "{'can': 4, 'you': 2, 'canner': 2, 'able': 1, 'to': 1}"
      ]
     },
     "execution_count": 13,
     "metadata": {},
     "output_type": "execute_result"
    }
   ],
   "source": [
    "l1=str1.split(' ')\n",
    "d1={}\n",
    "for i in l1:\n",
    "    d1[i]=l1.count(i)\n",
    "d1"
   ]
  },
  {
   "cell_type": "code",
   "execution_count": 15,
   "id": "324256a4-86d5-4bef-827a-6c67aa229684",
   "metadata": {},
   "outputs": [
    {
     "data": {
      "text/plain": [
       "dict_keys(['can', 'you', 'canner', 'able', 'to'])"
      ]
     },
     "execution_count": 15,
     "metadata": {},
     "output_type": "execute_result"
    }
   ],
   "source": [
    "d1.keys()"
   ]
  },
  {
   "cell_type": "code",
   "execution_count": 17,
   "id": "613f8eac-88ee-4df8-8ce7-f6b3be4e4c45",
   "metadata": {},
   "outputs": [
    {
     "data": {
      "text/plain": [
       "dict_values([4, 2, 2, 1, 1])"
      ]
     },
     "execution_count": 17,
     "metadata": {},
     "output_type": "execute_result"
    }
   ],
   "source": [
    "d1.values()"
   ]
  },
  {
   "cell_type": "code",
   "execution_count": 18,
   "id": "49da71a4-524f-4fcc-abcf-135dbe75838a",
   "metadata": {},
   "outputs": [
    {
     "data": {
      "text/plain": [
       "4"
      ]
     },
     "execution_count": 18,
     "metadata": {},
     "output_type": "execute_result"
    }
   ],
   "source": [
    "max(list(d1.values()))"
   ]
  },
  {
   "cell_type": "code",
   "execution_count": null,
   "id": "19da08cd-bf57-49e9-b680-4791607178a6",
   "metadata": {},
   "outputs": [],
   "source": []
  },
  {
   "cell_type": "code",
   "execution_count": 51,
   "id": "4edd0c43-1002-49d3-90fc-efce48fcb4bf",
   "metadata": {},
   "outputs": [],
   "source": [
    "# Q                                                                =======> IMP\n",
    "d1={'a':10,'b':20,'c':30}\n",
    "d2={'a':40,'b':50,'c':60}\n",
    "# op:: {'a'=50,'b'=70,'c'=90}"
   ]
  },
  {
   "cell_type": "code",
   "execution_count": 37,
   "id": "5fefbf72-d72f-4002-80e9-287150a6ed99",
   "metadata": {},
   "outputs": [
    {
     "data": {
      "text/plain": [
       "{'a': 50, 'b': 70, 'c': 90}"
      ]
     },
     "execution_count": 37,
     "metadata": {},
     "output_type": "execute_result"
    }
   ],
   "source": [
    "for i in d2:\n",
    "    d1[i]+=d2[i]\n",
    "d1"
   ]
  },
  {
   "cell_type": "code",
   "execution_count": 38,
   "id": "6ac8e4af-aa3e-47cf-97ed-344c1896b3af",
   "metadata": {},
   "outputs": [],
   "source": [
    "# ALTERNATE WAY"
   ]
  },
  {
   "cell_type": "code",
   "execution_count": 39,
   "id": "71d3d58f-563b-4583-86f9-ace3f81a0462",
   "metadata": {},
   "outputs": [
    {
     "data": {
      "text/plain": [
       "{'a': 90, 'b': 120, 'c': 150}"
      ]
     },
     "execution_count": 39,
     "metadata": {},
     "output_type": "execute_result"
    }
   ],
   "source": [
    "d3={}\n",
    "if len(d1)==len(d2):\n",
    "    for i in d1:\n",
    "        d3[i]=d1[i]+d2[i]\n",
    "d3"
   ]
  },
  {
   "cell_type": "markdown",
   "id": "24e441e6-85ef-44d9-b608-f5e5f6314efb",
   "metadata": {},
   "source": [
    "# 22 Nov"
   ]
  },
  {
   "cell_type": "markdown",
   "id": "58bdd9cd-b031-46eb-b502-ad009ffc00d0",
   "metadata": {},
   "source": [
    "# clear copy"
   ]
  },
  {
   "cell_type": "code",
   "execution_count": 41,
   "id": "0823a615-4d5d-4a0d-bfca-803d17b8c950",
   "metadata": {},
   "outputs": [
    {
     "data": {
      "text/plain": [
       "{'a': 90, 'b': 120, 'c': 150}"
      ]
     },
     "execution_count": 41,
     "metadata": {},
     "output_type": "execute_result"
    }
   ],
   "source": [
    "d4={}\n",
    "d4=d3.copy()\n",
    "d4"
   ]
  },
  {
   "cell_type": "code",
   "execution_count": 43,
   "id": "6edb5bfc-8517-4a1b-86ef-772115a44295",
   "metadata": {},
   "outputs": [
    {
     "data": {
      "text/plain": [
       "{}"
      ]
     },
     "execution_count": 43,
     "metadata": {},
     "output_type": "execute_result"
    }
   ],
   "source": [
    "d4.clear()\n",
    "d4"
   ]
  },
  {
   "cell_type": "code",
   "execution_count": null,
   "id": "d4c1bddd-a6f9-42d1-9bab-a7e70c8d83f4",
   "metadata": {},
   "outputs": [],
   "source": []
  },
  {
   "cell_type": "markdown",
   "id": "df463c47-62b6-4be3-afdc-1391908e8be0",
   "metadata": {},
   "source": [
    "# pop() popitem() del()"
   ]
  },
  {
   "cell_type": "markdown",
   "id": "819f8338-1282-4059-a462-742029846de9",
   "metadata": {},
   "source": [
    "- pop(key) will remove specific key\n",
    "- popitem() -- will remove last item by default\n",
    "- del -- keyword deletes specific item of dictionary == del d1['a']"
   ]
  },
  {
   "cell_type": "code",
   "execution_count": 52,
   "id": "7afc6bce-f9c3-43fd-af93-f7351e8ab415",
   "metadata": {},
   "outputs": [
    {
     "data": {
      "text/plain": [
       "{'a': 10, 'b': 20, 'c': 30}"
      ]
     },
     "execution_count": 52,
     "metadata": {},
     "output_type": "execute_result"
    }
   ],
   "source": [
    "d1"
   ]
  },
  {
   "cell_type": "code",
   "execution_count": 53,
   "id": "49deffab-9044-410c-8a51-2238ef61ea67",
   "metadata": {},
   "outputs": [
    {
     "data": {
      "text/plain": [
       "10"
      ]
     },
     "execution_count": 53,
     "metadata": {},
     "output_type": "execute_result"
    }
   ],
   "source": [
    "d1.pop('a')"
   ]
  },
  {
   "cell_type": "code",
   "execution_count": 54,
   "id": "c98d6023-7ccb-4a37-96e2-13fd0d304513",
   "metadata": {},
   "outputs": [],
   "source": [
    "# del is a keyword"
   ]
  },
  {
   "cell_type": "code",
   "execution_count": 55,
   "id": "28fa5c2f-da6e-442e-9bae-90486cebcfd2",
   "metadata": {},
   "outputs": [],
   "source": [
    "del d1['b']"
   ]
  },
  {
   "cell_type": "code",
   "execution_count": 56,
   "id": "8a05b754-be8a-4f74-b1c6-0a572eb300ba",
   "metadata": {},
   "outputs": [
    {
     "data": {
      "text/plain": [
       "{'c': 30}"
      ]
     },
     "execution_count": 56,
     "metadata": {},
     "output_type": "execute_result"
    }
   ],
   "source": [
    "d1"
   ]
  },
  {
   "cell_type": "code",
   "execution_count": null,
   "id": "05c56b8b-cc8b-45c7-b3c9-a9b21318f185",
   "metadata": {},
   "outputs": [],
   "source": []
  },
  {
   "cell_type": "markdown",
   "id": "9502ba53-e38a-42a3-9a61-1b2d8cb2148f",
   "metadata": {},
   "source": [
    "# fromkeys ==> creates a new dictionary from give sequence of elements\n",
    "# get(keys) returns values"
   ]
  },
  {
   "cell_type": "code",
   "execution_count": 57,
   "id": "3a05af62-aeac-4f7f-95e5-afc1d746f7fd",
   "metadata": {},
   "outputs": [
    {
     "data": {
      "text/plain": [
       "{'c': 30}"
      ]
     },
     "execution_count": 57,
     "metadata": {},
     "output_type": "execute_result"
    }
   ],
   "source": [
    "d1"
   ]
  },
  {
   "cell_type": "code",
   "execution_count": 63,
   "id": "ad9b5f3b-b835-4190-a2b7-98f393b94c8c",
   "metadata": {},
   "outputs": [
    {
     "data": {
      "text/plain": [
       "30"
      ]
     },
     "execution_count": 63,
     "metadata": {},
     "output_type": "execute_result"
    }
   ],
   "source": [
    "d1.get('c')"
   ]
  },
  {
   "cell_type": "code",
   "execution_count": 66,
   "id": "645205eb-d86b-4bf0-a1dd-b2c40081ceb7",
   "metadata": {},
   "outputs": [],
   "source": [
    "d2={}.fromkeys('abc',20)"
   ]
  },
  {
   "cell_type": "code",
   "execution_count": 67,
   "id": "39eb9cf1-c021-4fde-94a5-5c47f3812e4d",
   "metadata": {},
   "outputs": [
    {
     "data": {
      "text/plain": [
       "{'a': 20, 'b': 20, 'c': 20}"
      ]
     },
     "execution_count": 67,
     "metadata": {},
     "output_type": "execute_result"
    }
   ],
   "source": [
    "d2"
   ]
  },
  {
   "cell_type": "code",
   "execution_count": 68,
   "id": "b1565461-7224-4f13-8211-101edbf1d809",
   "metadata": {},
   "outputs": [],
   "source": [
    "d3={}.fromkeys([1,2,3],'a')"
   ]
  },
  {
   "cell_type": "code",
   "execution_count": 69,
   "id": "42b7efa6-2807-46f3-9065-3af3315b1bca",
   "metadata": {},
   "outputs": [
    {
     "data": {
      "text/plain": [
       "{1: 'a', 2: 'a', 3: 'a'}"
      ]
     },
     "execution_count": 69,
     "metadata": {},
     "output_type": "execute_result"
    }
   ],
   "source": [
    "d3"
   ]
  },
  {
   "cell_type": "markdown",
   "id": "3a161e13-c35b-4e41-bb9f-e724f8f60b18",
   "metadata": {},
   "source": [
    "# setasdefault"
   ]
  },
  {
   "cell_type": "code",
   "execution_count": 70,
   "id": "89dda788-d262-42cb-8493-f740185cc145",
   "metadata": {},
   "outputs": [
    {
     "data": {
      "text/plain": [
       "{'c': 30}"
      ]
     },
     "execution_count": 70,
     "metadata": {},
     "output_type": "execute_result"
    }
   ],
   "source": [
    "d1"
   ]
  },
  {
   "cell_type": "code",
   "execution_count": 71,
   "id": "a71340c2-aeb6-4b4d-9fe4-8d0de6199234",
   "metadata": {},
   "outputs": [
    {
     "data": {
      "text/plain": [
       "2"
      ]
     },
     "execution_count": 71,
     "metadata": {},
     "output_type": "execute_result"
    }
   ],
   "source": [
    "d1.setdefault('a',2)"
   ]
  },
  {
   "cell_type": "code",
   "execution_count": 72,
   "id": "6385a677-8dbc-457f-ac4b-656c37b275bd",
   "metadata": {},
   "outputs": [
    {
     "data": {
      "text/plain": [
       "{'c': 30, 'a': 2}"
      ]
     },
     "execution_count": 72,
     "metadata": {},
     "output_type": "execute_result"
    }
   ],
   "source": [
    "d1"
   ]
  },
  {
   "cell_type": "code",
   "execution_count": 73,
   "id": "0d671568-7278-458a-a64b-1bc990037509",
   "metadata": {},
   "outputs": [],
   "source": [
    "d1.setdefault('ab')"
   ]
  },
  {
   "cell_type": "code",
   "execution_count": 74,
   "id": "0035838d-ad69-4871-b745-4551d60242c2",
   "metadata": {},
   "outputs": [
    {
     "data": {
      "text/plain": [
       "{'c': 30, 'a': 2, 'ab': None}"
      ]
     },
     "execution_count": 74,
     "metadata": {},
     "output_type": "execute_result"
    }
   ],
   "source": [
    "d1"
   ]
  },
  {
   "cell_type": "markdown",
   "id": "79eda559-d9bd-44cf-9b65-266d1f19b16e",
   "metadata": {},
   "source": [
    "# update\n",
    "- it inserts a particular item into the dictionary\n",
    "- Update method will update a dictionary with elements from another dictionary.\n",
    "- It modifies the dictionary\n",
    "  "
   ]
  },
  {
   "cell_type": "code",
   "execution_count": 3,
   "id": "b7b25b4c-5446-404d-8393-39e41fc164d4",
   "metadata": {},
   "outputs": [
    {
     "data": {
      "text/plain": [
       "{1: 2, 'a': 'c'}"
      ]
     },
     "execution_count": 3,
     "metadata": {},
     "output_type": "execute_result"
    }
   ],
   "source": [
    "t1=[(1,2),('a','c')]\n",
    "d1={}\n",
    "d1.update(t1)\n",
    "d1"
   ]
  },
  {
   "cell_type": "code",
   "execution_count": null,
   "id": "f183845c-aac1-4566-ac77-822c4608b796",
   "metadata": {},
   "outputs": [],
   "source": []
  }
 ],
 "metadata": {
  "kernelspec": {
   "display_name": "Python (myenv)",
   "language": "python",
   "name": "myenv"
  },
  "language_info": {
   "codemirror_mode": {
    "name": "ipython",
    "version": 3
   },
   "file_extension": ".py",
   "mimetype": "text/x-python",
   "name": "python",
   "nbconvert_exporter": "python",
   "pygments_lexer": "ipython3",
   "version": "3.10.16"
  }
 },
 "nbformat": 4,
 "nbformat_minor": 5
}
