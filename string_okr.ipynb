{
 "cells": [
  {
   "cell_type": "code",
   "execution_count": 1,
   "id": "38a8918f-6811-4018-bbae-26652031e655",
   "metadata": {},
   "outputs": [],
   "source": [
    "# How to read a string"
   ]
  },
  {
   "cell_type": "code",
   "execution_count": 2,
   "id": "e66db0c2-feed-4da6-ad05-17994c480b81",
   "metadata": {},
   "outputs": [
    {
     "data": {
      "text/plain": [
       "'python'"
      ]
     },
     "execution_count": 2,
     "metadata": {},
     "output_type": "execute_result"
    }
   ],
   "source": [
    "s1='python'\n",
    "s1"
   ]
  },
  {
   "cell_type": "code",
   "execution_count": 3,
   "id": "0951972f-e02e-41e3-aa6b-3f3cb4cf8737",
   "metadata": {},
   "outputs": [
    {
     "data": {
      "text/plain": [
       "'python'"
      ]
     },
     "execution_count": 3,
     "metadata": {},
     "output_type": "execute_result"
    }
   ],
   "source": [
    "s2=\"python\"\n",
    "s2"
   ]
  },
  {
   "cell_type": "code",
   "execution_count": 4,
   "id": "7d791a9b-41a9-4dc0-a918-b5e6df2f2962",
   "metadata": {},
   "outputs": [],
   "source": [
    "### Doc string using \"\"\" i.e triple double quotes###"
   ]
  },
  {
   "cell_type": "code",
   "execution_count": 5,
   "id": "43e25ef4-6e48-4a9e-996c-cc881b680246",
   "metadata": {},
   "outputs": [
    {
     "data": {
      "text/plain": [
       "'\\nHi it is a docstring\\n'"
      ]
     },
     "execution_count": 5,
     "metadata": {},
     "output_type": "execute_result"
    }
   ],
   "source": [
    "\"\"\"\n",
    "Hi it is a docstring\n",
    "\"\"\""
   ]
  },
  {
   "cell_type": "markdown",
   "id": "aa017c36-b844-4ec0-8eb8-a2605a48144b",
   "metadata": {},
   "source": [
    "## highlighting python\n",
    "- \" inside ''\n",
    "- ' inside \"\""
   ]
  },
  {
   "cell_type": "code",
   "execution_count": 6,
   "id": "57a9a351-89b6-46ea-a15f-426310257a2a",
   "metadata": {},
   "outputs": [
    {
     "data": {
      "text/plain": [
       "'syed \"ausaf\" haider'"
      ]
     },
     "execution_count": 6,
     "metadata": {},
     "output_type": "execute_result"
    }
   ],
   "source": [
    "s3='syed \"ausaf\" haider'\n",
    "s3"
   ]
  },
  {
   "cell_type": "code",
   "execution_count": 7,
   "id": "eeddb90b-8a73-45e8-b529-7e6713bc6f8e",
   "metadata": {},
   "outputs": [
    {
     "data": {
      "text/plain": [
       "\"syed 'ausaf' haider\""
      ]
     },
     "execution_count": 7,
     "metadata": {},
     "output_type": "execute_result"
    }
   ],
   "source": [
    "s4=\"syed 'ausaf' haider\"\n",
    "s4"
   ]
  },
  {
   "cell_type": "code",
   "execution_count": null,
   "id": "a05a3757-56c6-4972-9902-1a1202efebcc",
   "metadata": {},
   "outputs": [],
   "source": []
  },
  {
   "cell_type": "markdown",
   "id": "bbcdea8a-8763-4710-9570-ce3c69357b10",
   "metadata": {},
   "source": [
    "- type\n",
    "- len\n",
    "- min\n",
    "- max"
   ]
  },
  {
   "cell_type": "code",
   "execution_count": 8,
   "id": "88d49fc9-1c54-4411-b250-659f095db475",
   "metadata": {},
   "outputs": [
    {
     "data": {
      "text/plain": [
       "str"
      ]
     },
     "execution_count": 8,
     "metadata": {},
     "output_type": "execute_result"
    }
   ],
   "source": [
    "type(s1)"
   ]
  },
  {
   "cell_type": "code",
   "execution_count": 9,
   "id": "ee99f31d-f8b8-4814-ad70-322ed030c96a",
   "metadata": {},
   "outputs": [
    {
     "data": {
      "text/plain": [
       "6"
      ]
     },
     "execution_count": 9,
     "metadata": {},
     "output_type": "execute_result"
    }
   ],
   "source": [
    "len(s1)"
   ]
  },
  {
   "cell_type": "code",
   "execution_count": 10,
   "id": "97ca0c45-53e4-4059-9940-b6ba8d502f27",
   "metadata": {},
   "outputs": [
    {
     "data": {
      "text/plain": [
       "'y'"
      ]
     },
     "execution_count": 10,
     "metadata": {},
     "output_type": "execute_result"
    }
   ],
   "source": [
    "max(s1)"
   ]
  },
  {
   "cell_type": "code",
   "execution_count": 11,
   "id": "a7c817d5-3f73-4d0f-ab09-4f258881cd37",
   "metadata": {},
   "outputs": [
    {
     "data": {
      "text/plain": [
       "'h'"
      ]
     },
     "execution_count": 11,
     "metadata": {},
     "output_type": "execute_result"
    }
   ],
   "source": [
    "min(s1)"
   ]
  },
  {
   "cell_type": "markdown",
   "id": "ae80c7eb-97d7-4b7a-8e25-5b43bcbd8aca",
   "metadata": {},
   "source": [
    "## max min\n",
    "- max() gives character of highest ascii character\n",
    "- min() givrd character of lowest ascii character"
   ]
  },
  {
   "cell_type": "markdown",
   "id": "3af3038a-3919-435c-8d58-fac6edb91ec9",
   "metadata": {},
   "source": [
    "# ord chr\n",
    "- ord('char') ==> gives ascii value of character\n",
    "- chr(ascii) ==> gives character of the ascii"
   ]
  },
  {
   "cell_type": "code",
   "execution_count": 12,
   "id": "4c14357d-41f2-4b20-9374-f22b813a50ac",
   "metadata": {},
   "outputs": [
    {
     "data": {
      "text/plain": [
       "97"
      ]
     },
     "execution_count": 12,
     "metadata": {},
     "output_type": "execute_result"
    }
   ],
   "source": [
    "ord('a')"
   ]
  },
  {
   "cell_type": "code",
   "execution_count": 13,
   "id": "e43fd434-cb33-41f5-9b5d-877ccdf46cea",
   "metadata": {},
   "outputs": [
    {
     "data": {
      "text/plain": [
       "65"
      ]
     },
     "execution_count": 13,
     "metadata": {},
     "output_type": "execute_result"
    }
   ],
   "source": [
    "ord('A')"
   ]
  },
  {
   "cell_type": "code",
   "execution_count": 14,
   "id": "b036dc20-7496-4a51-a8ad-f3dab0759870",
   "metadata": {},
   "outputs": [
    {
     "data": {
      "text/plain": [
       "'a'"
      ]
     },
     "execution_count": 14,
     "metadata": {},
     "output_type": "execute_result"
    }
   ],
   "source": [
    "chr(97)"
   ]
  },
  {
   "cell_type": "code",
   "execution_count": 15,
   "id": "a25c0176-1103-4df5-a58e-5dcfd49fed48",
   "metadata": {},
   "outputs": [
    {
     "data": {
      "text/plain": [
       "'A'"
      ]
     },
     "execution_count": 15,
     "metadata": {},
     "output_type": "execute_result"
    }
   ],
   "source": [
    "chr(65)"
   ]
  },
  {
   "cell_type": "markdown",
   "id": "20cdbbc9-35d6-4f83-9752-b6d7abd218d0",
   "metadata": {},
   "source": [
    "$in$"
   ]
  },
  {
   "cell_type": "code",
   "execution_count": 16,
   "id": "0f7ee51b-4e32-4fa9-8346-9eb9b5c38167",
   "metadata": {},
   "outputs": [
    {
     "data": {
      "text/plain": [
       "True"
      ]
     },
     "execution_count": 16,
     "metadata": {},
     "output_type": "execute_result"
    }
   ],
   "source": [
    "s='python'\n",
    "'p' in s\n",
    "'y' in s\n",
    "'t' in s\n",
    "'h' in s\n",
    "'o' in s\n",
    "'n' in s\n",
    "\n",
    "# i in s (generalized) "
   ]
  },
  {
   "cell_type": "code",
   "execution_count": 17,
   "id": "540ba5b3-77bc-4229-9611-b5f5f6d650ac",
   "metadata": {},
   "outputs": [
    {
     "name": "stdout",
     "output_type": "stream",
     "text": [
      "p\n",
      "y\n",
      "t\n",
      "h\n",
      "o\n",
      "n\n"
     ]
    }
   ],
   "source": [
    "for i in s:\n",
    "    print(i)"
   ]
  },
  {
   "cell_type": "markdown",
   "id": "78e5a8c4-4c03-40e2-94ca-a795415262bd",
   "metadata": {},
   "source": [
    "- range() : need to provide integer inside range\n",
    "- in      : is used only for strings\n",
    "\n",
    "## if you want to print letters using for loop go for in operator"
   ]
  },
  {
   "cell_type": "code",
   "execution_count": null,
   "id": "f478183d-f02e-426b-9a94-a0cdedd52d56",
   "metadata": {},
   "outputs": [],
   "source": []
  },
  {
   "cell_type": "code",
   "execution_count": 18,
   "id": "e39fcd9d-747f-4e0c-bb93-ac65a2dbe549",
   "metadata": {},
   "outputs": [
    {
     "name": "stdout",
     "output_type": "stream",
     "text": [
      "112\n",
      "121\n",
      "116\n",
      "104\n",
      "111\n",
      "110\n"
     ]
    }
   ],
   "source": [
    "print(ord('p'))\n",
    "print(ord('y'))\n",
    "print(ord('t'))\n",
    "print(ord('h'))\n",
    "print(ord('o'))\n",
    "print(ord('n'))"
   ]
  },
  {
   "cell_type": "code",
   "execution_count": 19,
   "id": "2e8a0cb3-ad51-44c3-a4d9-e1a111e73df2",
   "metadata": {},
   "outputs": [
    {
     "name": "stdout",
     "output_type": "stream",
     "text": [
      "The ascii value of p is 112\n",
      "The ascii value of y is 121\n",
      "The ascii value of t is 116\n",
      "The ascii value of h is 104\n",
      "The ascii value of o is 111\n",
      "The ascii value of n is 110\n"
     ]
    }
   ],
   "source": [
    "for i in s:\n",
    "    print(\"The ascii value of {} is {}\".format(i,ord(i)))"
   ]
  },
  {
   "cell_type": "code",
   "execution_count": null,
   "id": "af2a3423-cf2a-473c-a11e-a15335dcc421",
   "metadata": {},
   "outputs": [],
   "source": []
  },
  {
   "cell_type": "code",
   "execution_count": null,
   "id": "79dca6f0-bba1-481f-9f65-d6ee4739a0fe",
   "metadata": {},
   "outputs": [],
   "source": []
  },
  {
   "cell_type": "markdown",
   "id": "1db63f61-9c59-4cca-a73d-e2e46e38a7ae",
   "metadata": {},
   "source": [
    "# package_name : string"
   ]
  },
  {
   "cell_type": "code",
   "execution_count": 20,
   "id": "d9a8d569-d577-4f9b-8783-482adca18d21",
   "metadata": {},
   "outputs": [],
   "source": [
    "import string"
   ]
  },
  {
   "cell_type": "code",
   "execution_count": 21,
   "id": "4dad392b-5937-4330-b7cb-4ecf7f4f2f4b",
   "metadata": {},
   "outputs": [
    {
     "data": {
      "text/plain": [
       "['Formatter',\n",
       " 'Template',\n",
       " '_ChainMap',\n",
       " '__all__',\n",
       " '__builtins__',\n",
       " '__cached__',\n",
       " '__doc__',\n",
       " '__file__',\n",
       " '__loader__',\n",
       " '__name__',\n",
       " '__package__',\n",
       " '__spec__',\n",
       " '_re',\n",
       " '_sentinel_dict',\n",
       " '_string',\n",
       " 'ascii_letters',\n",
       " 'ascii_lowercase',\n",
       " 'ascii_uppercase',\n",
       " 'capwords',\n",
       " 'digits',\n",
       " 'hexdigits',\n",
       " 'octdigits',\n",
       " 'printable',\n",
       " 'punctuation',\n",
       " 'whitespace']"
      ]
     },
     "execution_count": 21,
     "metadata": {},
     "output_type": "execute_result"
    }
   ],
   "source": [
    "dir(string)"
   ]
  },
  {
   "cell_type": "code",
   "execution_count": 22,
   "id": "cbfdcd6d-9299-4f51-aa51-10809d987780",
   "metadata": {},
   "outputs": [
    {
     "data": {
      "text/plain": [
       "'abcdefghijklmnopqrstuvwxyz'"
      ]
     },
     "execution_count": 22,
     "metadata": {},
     "output_type": "execute_result"
    }
   ],
   "source": [
    "string.ascii_lowercase"
   ]
  },
  {
   "cell_type": "code",
   "execution_count": 23,
   "id": "d761a35d-f35e-4cdb-a21c-28a3e885285a",
   "metadata": {},
   "outputs": [
    {
     "data": {
      "text/plain": [
       "'ABCDEFGHIJKLMNOPQRSTUVWXYZ'"
      ]
     },
     "execution_count": 23,
     "metadata": {},
     "output_type": "execute_result"
    }
   ],
   "source": [
    "string.ascii_uppercase"
   ]
  },
  {
   "cell_type": "code",
   "execution_count": 24,
   "id": "7fd65644-1462-4403-98d8-7bc18628d832",
   "metadata": {},
   "outputs": [
    {
     "data": {
      "text/plain": [
       "'abcdefghijklmnopqrstuvwxyzABCDEFGHIJKLMNOPQRSTUVWXYZ'"
      ]
     },
     "execution_count": 24,
     "metadata": {},
     "output_type": "execute_result"
    }
   ],
   "source": [
    "string.ascii_letters"
   ]
  },
  {
   "cell_type": "code",
   "execution_count": 25,
   "id": "e1dc9a0d-b9a1-4ae9-92c3-2668e35ced52",
   "metadata": {},
   "outputs": [
    {
     "name": "stdout",
     "output_type": "stream",
     "text": [
      "The ascii value of a is 97\n",
      "The ascii value of b is 98\n",
      "The ascii value of c is 99\n",
      "The ascii value of d is 100\n",
      "The ascii value of e is 101\n",
      "The ascii value of f is 102\n",
      "The ascii value of g is 103\n",
      "The ascii value of h is 104\n",
      "The ascii value of i is 105\n",
      "The ascii value of j is 106\n",
      "The ascii value of k is 107\n",
      "The ascii value of l is 108\n",
      "The ascii value of m is 109\n",
      "The ascii value of n is 110\n",
      "The ascii value of o is 111\n",
      "The ascii value of p is 112\n",
      "The ascii value of q is 113\n",
      "The ascii value of r is 114\n",
      "The ascii value of s is 115\n",
      "The ascii value of t is 116\n",
      "The ascii value of u is 117\n",
      "The ascii value of v is 118\n",
      "The ascii value of w is 119\n",
      "The ascii value of x is 120\n",
      "The ascii value of y is 121\n",
      "The ascii value of z is 122\n",
      "The ascii value of A is 65\n",
      "The ascii value of B is 66\n",
      "The ascii value of C is 67\n",
      "The ascii value of D is 68\n",
      "The ascii value of E is 69\n",
      "The ascii value of F is 70\n",
      "The ascii value of G is 71\n",
      "The ascii value of H is 72\n",
      "The ascii value of I is 73\n",
      "The ascii value of J is 74\n",
      "The ascii value of K is 75\n",
      "The ascii value of L is 76\n",
      "The ascii value of M is 77\n",
      "The ascii value of N is 78\n",
      "The ascii value of O is 79\n",
      "The ascii value of P is 80\n",
      "The ascii value of Q is 81\n",
      "The ascii value of R is 82\n",
      "The ascii value of S is 83\n",
      "The ascii value of T is 84\n",
      "The ascii value of U is 85\n",
      "The ascii value of V is 86\n",
      "The ascii value of W is 87\n",
      "The ascii value of X is 88\n",
      "The ascii value of Y is 89\n",
      "The ascii value of Z is 90\n"
     ]
    }
   ],
   "source": [
    "for i in string.ascii_letters:\n",
    "    print(\"The ascii value of {} is {}\".format(i,ord(i)))"
   ]
  },
  {
   "cell_type": "code",
   "execution_count": 26,
   "id": "d59353d6-6cfa-47d2-843d-461ed8086c3a",
   "metadata": {},
   "outputs": [
    {
     "name": "stdout",
     "output_type": "stream",
     "text": [
      "The ascii value of ! is 33\n",
      "The ascii value of \" is 34\n",
      "The ascii value of # is 35\n",
      "The ascii value of $ is 36\n",
      "The ascii value of % is 37\n",
      "The ascii value of & is 38\n",
      "The ascii value of ' is 39\n",
      "The ascii value of ( is 40\n",
      "The ascii value of ) is 41\n",
      "The ascii value of * is 42\n",
      "The ascii value of + is 43\n",
      "The ascii value of , is 44\n",
      "The ascii value of - is 45\n",
      "The ascii value of . is 46\n",
      "The ascii value of / is 47\n",
      "The ascii value of : is 58\n",
      "The ascii value of ; is 59\n",
      "The ascii value of < is 60\n",
      "The ascii value of = is 61\n",
      "The ascii value of > is 62\n",
      "The ascii value of ? is 63\n",
      "The ascii value of @ is 64\n",
      "The ascii value of [ is 91\n",
      "The ascii value of \\ is 92\n",
      "The ascii value of ] is 93\n",
      "The ascii value of ^ is 94\n",
      "The ascii value of _ is 95\n",
      "The ascii value of ` is 96\n",
      "The ascii value of { is 123\n",
      "The ascii value of | is 124\n",
      "The ascii value of } is 125\n",
      "The ascii value of ~ is 126\n"
     ]
    }
   ],
   "source": [
    "for i in string.punctuation:\n",
    "    print(\"The ascii value of {} is {}\".format(i,ord(i)))"
   ]
  },
  {
   "cell_type": "markdown",
   "id": "17b637c3-dec6-4539-8cfb-05b60e07c3ef",
   "metadata": {},
   "source": [
    "# ascii start with 33 and end with 126"
   ]
  },
  {
   "cell_type": "code",
   "execution_count": 27,
   "id": "4771d350-f26d-4426-920c-609d5d30f2e7",
   "metadata": {},
   "outputs": [
    {
     "data": {
      "text/plain": [
       "'0123456789abcdefghijklmnopqrstuvwxyzABCDEFGHIJKLMNOPQRSTUVWXYZ!\"#$%&\\'()*+,-./:;<=>?@[\\\\]^_`{|}~ \\t\\n\\r\\x0b\\x0c'"
      ]
     },
     "execution_count": 27,
     "metadata": {},
     "output_type": "execute_result"
    }
   ],
   "source": [
    "string.printable"
   ]
  },
  {
   "cell_type": "code",
   "execution_count": null,
   "id": "693f23b3-8021-4383-843c-bb39f7dac5ae",
   "metadata": {},
   "outputs": [],
   "source": []
  },
  {
   "cell_type": "code",
   "execution_count": 28,
   "id": "8f6e1bdc-e8fc-4d25-b360-30deaccc502e",
   "metadata": {},
   "outputs": [],
   "source": [
    "# WAP to ask user to count no of 'a' in a given string"
   ]
  },
  {
   "cell_type": "code",
   "execution_count": 29,
   "id": "cf194491-d98d-43ad-9746-28ee6b9675f3",
   "metadata": {},
   "outputs": [],
   "source": [
    "s='hi how are you and how do you do'"
   ]
  },
  {
   "cell_type": "code",
   "execution_count": 30,
   "id": "36ff338a-d1cf-4451-9878-fb98b9758c28",
   "metadata": {},
   "outputs": [
    {
     "name": "stdout",
     "output_type": "stream",
     "text": [
      "2\n"
     ]
    }
   ],
   "source": [
    "c=0\n",
    "for i in s:\n",
    "    if i=='a':\n",
    "        c+=1\n",
    "print(c)"
   ]
  },
  {
   "cell_type": "code",
   "execution_count": null,
   "id": "f8f703f7-fa69-49d7-8ec6-3973e160a2fd",
   "metadata": {},
   "outputs": [],
   "source": []
  },
  {
   "cell_type": "code",
   "execution_count": 31,
   "id": "581a8efd-2256-4928-916c-a5f2a61ea3d9",
   "metadata": {},
   "outputs": [],
   "source": [
    "# WAP to count no of vowels in a given string"
   ]
  },
  {
   "cell_type": "code",
   "execution_count": 32,
   "id": "2979e779-0941-473f-94c4-8c5dc74614e4",
   "metadata": {},
   "outputs": [
    {
     "name": "stdout",
     "output_type": "stream",
     "text": [
      "hi how are you and how do you do\n",
      "12\n"
     ]
    }
   ],
   "source": [
    "print(s)\n",
    "c=0\n",
    "for i in s:\n",
    "    if i in 'aeiou':                             # very very important\n",
    "        c+=1\n",
    "print(c)"
   ]
  },
  {
   "cell_type": "code",
   "execution_count": null,
   "id": "acde5005-e1ff-455f-bf44-9b119d312c70",
   "metadata": {},
   "outputs": [],
   "source": []
  },
  {
   "cell_type": "code",
   "execution_count": 33,
   "id": "d8a9a537-f60e-4c6b-b649-836c245ce05c",
   "metadata": {},
   "outputs": [],
   "source": [
    "# WAP to print unique vowels in a given string"
   ]
  },
  {
   "cell_type": "code",
   "execution_count": 34,
   "id": "3db97756-cd0b-4308-a11e-432616cf9f33",
   "metadata": {},
   "outputs": [
    {
     "name": "stdout",
     "output_type": "stream",
     "text": [
      "hi how are you and how do you do\n",
      "5\n"
     ]
    }
   ],
   "source": [
    "print(s)\n",
    "c=0\n",
    "s1=''\n",
    "for i in s:\n",
    "    if i in 'aeiou':\n",
    "        if i not in s1:\n",
    "            s1+=i\n",
    "print(len(s1))\n",
    "\n"
   ]
  },
  {
   "cell_type": "code",
   "execution_count": null,
   "id": "43313b32-ffa7-41f0-8c5f-2fdc07ee2072",
   "metadata": {},
   "outputs": [],
   "source": []
  },
  {
   "cell_type": "code",
   "execution_count": 35,
   "id": "e84edcc3-14b9-480c-b117-b60a38489477",
   "metadata": {},
   "outputs": [],
   "source": [
    "# WAP adding letter of s in s1"
   ]
  },
  {
   "cell_type": "code",
   "execution_count": 36,
   "id": "dccb1413-15a8-472c-a0fa-514a3e239d2d",
   "metadata": {},
   "outputs": [
    {
     "name": "stdout",
     "output_type": "stream",
     "text": [
      "hi how are you and how do you do\n"
     ]
    }
   ],
   "source": [
    "print(s)"
   ]
  },
  {
   "cell_type": "code",
   "execution_count": 37,
   "id": "cf804833-48cd-4b20-919a-a02762986201",
   "metadata": {},
   "outputs": [
    {
     "name": "stdout",
     "output_type": "stream",
     "text": [
      "hi how are you and how do you do\n"
     ]
    }
   ],
   "source": [
    "s1=''\n",
    "for i in s:\n",
    "    s1+=i\n",
    "print (s1)"
   ]
  },
  {
   "cell_type": "code",
   "execution_count": null,
   "id": "20f489df-ec81-47f1-9a4c-d8ad490f4c28",
   "metadata": {},
   "outputs": [],
   "source": []
  },
  {
   "cell_type": "markdown",
   "id": "eba10eb4-3b75-4115-a430-39364e69552a",
   "metadata": {},
   "source": [
    "# Concatenation i.e string1 + string2"
   ]
  },
  {
   "cell_type": "code",
   "execution_count": 38,
   "id": "149df3b9-6bf1-4a2a-afcb-08b49f05e1b1",
   "metadata": {},
   "outputs": [
    {
     "data": {
      "text/plain": [
       "' syed  ausaf  haider '"
      ]
     },
     "execution_count": 38,
     "metadata": {},
     "output_type": "execute_result"
    }
   ],
   "source": [
    "' syed ' + ' ausaf ' + ' haider '"
   ]
  },
  {
   "cell_type": "code",
   "execution_count": null,
   "id": "768b8cc8-f127-413d-bfe0-519a02814119",
   "metadata": {},
   "outputs": [],
   "source": []
  },
  {
   "cell_type": "code",
   "execution_count": 39,
   "id": "39acfb23-97c5-4df3-9f7b-fd9d6bf70fd0",
   "metadata": {},
   "outputs": [
    {
     "data": {
      "text/plain": [
       "'syedsyedsyed'"
      ]
     },
     "execution_count": 39,
     "metadata": {},
     "output_type": "execute_result"
    }
   ],
   "source": [
    "'syed' * 3"
   ]
  },
  {
   "cell_type": "markdown",
   "id": "1214491b-9505-461b-a823-416ad4788053",
   "metadata": {},
   "source": [
    "# string * n  =>concats string n times"
   ]
  },
  {
   "cell_type": "code",
   "execution_count": null,
   "id": "580a2b8d-1ce6-49fa-a525-f094b704e09d",
   "metadata": {},
   "outputs": [],
   "source": []
  },
  {
   "cell_type": "code",
   "execution_count": null,
   "id": "fe34938a-ac7d-4a36-a0c7-c68a1a91b441",
   "metadata": {},
   "outputs": [],
   "source": []
  },
  {
   "cell_type": "markdown",
   "id": "9f37e693-1bc4-4321-9dc5-29ea08562a92",
   "metadata": {},
   "source": [
    "# Index operations\n",
    "- i will give index\n",
    "- s[i] will give letters"
   ]
  },
  {
   "cell_type": "code",
   "execution_count": 40,
   "id": "15b87786-4a45-44e4-838e-55c92e506ef3",
   "metadata": {},
   "outputs": [
    {
     "data": {
      "text/plain": [
       "'hi how are you and how do you do'"
      ]
     },
     "execution_count": 40,
     "metadata": {},
     "output_type": "execute_result"
    }
   ],
   "source": [
    "s"
   ]
  },
  {
   "cell_type": "code",
   "execution_count": 41,
   "id": "b83ee6fa-6dd2-4f58-b346-a24ccda22f80",
   "metadata": {},
   "outputs": [
    {
     "data": {
      "text/plain": [
       "('h', 'i', ' ')"
      ]
     },
     "execution_count": 41,
     "metadata": {},
     "output_type": "execute_result"
    }
   ],
   "source": [
    "s[0],s[1],s[2]"
   ]
  },
  {
   "cell_type": "code",
   "execution_count": null,
   "id": "d607d7f3-c93a-4106-8a5f-a5255ffda28c",
   "metadata": {},
   "outputs": [],
   "source": []
  },
  {
   "cell_type": "code",
   "execution_count": 42,
   "id": "630b76b7-5f40-44c3-af3c-c5a18110f049",
   "metadata": {},
   "outputs": [
    {
     "name": "stdout",
     "output_type": "stream",
     "text": [
      "h\n",
      "i\n",
      " \n",
      "h\n",
      "o\n",
      "w\n",
      " \n",
      "a\n",
      "r\n",
      "e\n",
      " \n",
      "y\n",
      "o\n",
      "u\n",
      " \n",
      "a\n",
      "n\n",
      "d\n",
      " \n",
      "h\n",
      "o\n",
      "w\n",
      " \n",
      "d\n",
      "o\n",
      " \n",
      "y\n",
      "o\n",
      "u\n",
      " \n",
      "d\n",
      "o\n"
     ]
    }
   ],
   "source": [
    "for i in range(len(s)):\n",
    "    print (s[i])"
   ]
  },
  {
   "cell_type": "code",
   "execution_count": null,
   "id": "a5ed45d9-ce7a-409b-b0b3-21bbd8855da6",
   "metadata": {},
   "outputs": [],
   "source": []
  },
  {
   "cell_type": "code",
   "execution_count": 43,
   "id": "2bc88585-4c4d-47e4-9baa-ab44d9315076",
   "metadata": {},
   "outputs": [],
   "source": [
    "# 10 nov"
   ]
  },
  {
   "cell_type": "code",
   "execution_count": null,
   "id": "81da1cf6-9b97-478e-a16b-3f24cf6b5525",
   "metadata": {},
   "outputs": [],
   "source": []
  },
  {
   "cell_type": "code",
   "execution_count": 44,
   "id": "ef056f40-4748-4702-aa21-f4320e11730a",
   "metadata": {},
   "outputs": [],
   "source": [
    "s1='python'"
   ]
  },
  {
   "cell_type": "code",
   "execution_count": 45,
   "id": "540ed94d-a772-4f67-a653-1d4f1504d998",
   "metadata": {},
   "outputs": [
    {
     "name": "stdout",
     "output_type": "stream",
     "text": [
      "p y t h o n "
     ]
    }
   ],
   "source": [
    "for i in s1:            # i ,means each letter\n",
    "    print(i,end=' ')"
   ]
  },
  {
   "cell_type": "code",
   "execution_count": 46,
   "id": "5c35629f-7760-42d0-a944-7e34238e7bf5",
   "metadata": {},
   "outputs": [
    {
     "name": "stdout",
     "output_type": "stream",
     "text": [
      "p y t h o n "
     ]
    }
   ],
   "source": [
    "for i in range (len(s1)): # here i means each index\n",
    "    print(s1[i],end=' ')"
   ]
  },
  {
   "cell_type": "code",
   "execution_count": null,
   "id": "6f63dc95-894c-46e3-a94d-7f102e19a5f5",
   "metadata": {},
   "outputs": [],
   "source": []
  },
  {
   "cell_type": "code",
   "execution_count": null,
   "id": "a00a4241-5437-40a6-aec8-b2e53b12b113",
   "metadata": {},
   "outputs": [],
   "source": []
  },
  {
   "cell_type": "markdown",
   "id": "96c1fb60-1954-4291-b4e0-b949e1af614f",
   "metadata": {},
   "source": [
    "- -6  -5  -4  -3  -2  -1\n",
    "-  p   y   t   h   o   n\n",
    "-  0   1   2   3   4   5"
   ]
  },
  {
   "cell_type": "code",
   "execution_count": 47,
   "id": "436b9e01-ba87-4109-a16e-a8674af1a883",
   "metadata": {},
   "outputs": [],
   "source": [
    "# WAP to print letters using negative index"
   ]
  },
  {
   "cell_type": "code",
   "execution_count": 48,
   "id": "1dabf105-6a49-4add-8c5e-9d7cddcde034",
   "metadata": {},
   "outputs": [
    {
     "name": "stdout",
     "output_type": "stream",
     "text": [
      "python\n",
      "0 -6 p\n",
      "1 -5 y\n",
      "2 -4 t\n",
      "3 -3 h\n",
      "4 -2 o\n",
      "5 -1 n\n"
     ]
    }
   ],
   "source": [
    "print(s1)\n",
    "for i in range (-(len(s1)),0):\n",
    "    print (i+6,i,s1[i])"
   ]
  },
  {
   "cell_type": "code",
   "execution_count": null,
   "id": "7b3b5138-b396-4e61-a712-00c1b4c4f3b8",
   "metadata": {},
   "outputs": [],
   "source": []
  },
  {
   "cell_type": "code",
   "execution_count": null,
   "id": "529e4eb8-8bac-4018-95a4-f3498849a9f8",
   "metadata": {},
   "outputs": [],
   "source": []
  },
  {
   "cell_type": "markdown",
   "id": "180cd01b-0b66-49fb-a507-38045652968b",
   "metadata": {},
   "source": [
    "# while loop\n",
    "i=0 \n",
    "while(i<cond):\n",
    "    statements\n",
    "    i+=1"
   ]
  },
  {
   "cell_type": "code",
   "execution_count": 49,
   "id": "b8a98c6b-4501-4fb7-bedf-28c1f422ed47",
   "metadata": {},
   "outputs": [
    {
     "name": "stdout",
     "output_type": "stream",
     "text": [
      "python\n",
      "p\n",
      "y\n",
      "t\n",
      "h\n",
      "o\n",
      "n\n"
     ]
    }
   ],
   "source": [
    "print(s1)\n",
    "i=0\n",
    "while (i<len(s1)):\n",
    "    print(s1[i])\n",
    "    i+=1"
   ]
  },
  {
   "cell_type": "code",
   "execution_count": 50,
   "id": "46691a94-e770-45cf-b07d-3b2d8818757b",
   "metadata": {},
   "outputs": [
    {
     "name": "stdout",
     "output_type": "stream",
     "text": [
      "0 p -6\n",
      "1 y -5\n",
      "2 t -4\n",
      "3 h -3\n",
      "4 o -2\n",
      "5 n -1\n"
     ]
    }
   ],
   "source": [
    "i=0\n",
    "while (i<len(s1)):\n",
    "    print(i,s1[i],i-6)\n",
    "    i+=1"
   ]
  },
  {
   "cell_type": "code",
   "execution_count": 51,
   "id": "32ff07de-4cf9-40a3-afa4-f5fd82605c26",
   "metadata": {},
   "outputs": [
    {
     "name": "stdout",
     "output_type": "stream",
     "text": [
      "1\n"
     ]
    }
   ],
   "source": [
    "# count no of 'a' in s\n",
    "s='hi how are you'\n",
    "i=0\n",
    "c=0\n",
    "while(i<len(s)):\n",
    "    if s[i]=='a':\n",
    "        c+=1\n",
    "    i+=1\n",
    "print(c)"
   ]
  },
  {
   "cell_type": "markdown",
   "id": "e95c2a42-9de6-4440-8a33-46578f6fb44d",
   "metadata": {},
   "source": [
    "# Mutable and immutable concept\n",
    "## Mutable ==> we can change\n",
    "## Immutable => we can not change"
   ]
  },
  {
   "cell_type": "code",
   "execution_count": null,
   "id": "b3efc919-db50-4c24-a97a-29547b28ed17",
   "metadata": {},
   "outputs": [],
   "source": []
  },
  {
   "cell_type": "markdown",
   "id": "994d6c68-0f47-4d4d-bbd0-ee8fb19f31dc",
   "metadata": {},
   "source": [
    "# we can not change strings by index operations ===> strings are immutable\n",
    "i.e python ==> pYthon"
   ]
  },
  {
   "cell_type": "code",
   "execution_count": 52,
   "id": "506c3d30-68e2-4445-a589-80bc37713b38",
   "metadata": {},
   "outputs": [],
   "source": [
    "# put letters of string into list and then join"
   ]
  },
  {
   "cell_type": "code",
   "execution_count": null,
   "id": "52c791e3-fb8c-44b7-b725-59a7e8ac5432",
   "metadata": {},
   "outputs": [],
   "source": []
  },
  {
   "cell_type": "markdown",
   "id": "3a0f66e8-a727-4bdb-a396-1037efbdd0cc",
   "metadata": {},
   "source": [
    "# string slicing\n",
    "## s1[start : stop]"
   ]
  },
  {
   "cell_type": "code",
   "execution_count": 53,
   "id": "115f7fa4-10cd-4e9e-b940-5219c7ba61f6",
   "metadata": {},
   "outputs": [],
   "source": [
    "s1='hi how are you'"
   ]
  },
  {
   "cell_type": "code",
   "execution_count": 54,
   "id": "f749ede3-4215-46f2-bf22-520c2de109e7",
   "metadata": {},
   "outputs": [
    {
     "data": {
      "text/plain": [
       "' how '"
      ]
     },
     "execution_count": 54,
     "metadata": {},
     "output_type": "execute_result"
    }
   ],
   "source": [
    "s1[2:7] \n",
    "# start =2 \n",
    "#end=7-1 \n",
    "# and direction is positive"
   ]
  },
  {
   "cell_type": "code",
   "execution_count": null,
   "id": "c367de8c-d509-41be-be49-d4cba2311c6d",
   "metadata": {},
   "outputs": [],
   "source": []
  },
  {
   "cell_type": "code",
   "execution_count": 55,
   "id": "8c880328-f608-46d5-8447-182dac1d19bf",
   "metadata": {},
   "outputs": [
    {
     "data": {
      "text/plain": [
       "' wr'"
      ]
     },
     "execution_count": 55,
     "metadata": {},
     "output_type": "execute_result"
    }
   ],
   "source": [
    "s1[2:10:3]\n",
    "# start =2\n",
    "# end =10-1\n",
    "# increament of 3 i.e. 2 5 8"
   ]
  },
  {
   "cell_type": "code",
   "execution_count": null,
   "id": "7b2572ad-e0fb-4de0-9c56-a8f8c8930099",
   "metadata": {},
   "outputs": [],
   "source": []
  },
  {
   "cell_type": "code",
   "execution_count": 56,
   "id": "79b7007b-2bd0-48ba-b92e-1b338cf8b9df",
   "metadata": {},
   "outputs": [
    {
     "data": {
      "text/plain": [
       "'hi how are you'"
      ]
     },
     "execution_count": 56,
     "metadata": {},
     "output_type": "execute_result"
    }
   ],
   "source": [
    "s1[:]\n",
    "# nothing mention means start:stop"
   ]
  },
  {
   "cell_type": "code",
   "execution_count": null,
   "id": "e2632d86-62ac-4f33-a988-caf6997a7596",
   "metadata": {},
   "outputs": [],
   "source": []
  },
  {
   "cell_type": "code",
   "execution_count": 57,
   "id": "74db04ec-8909-4b55-8cfb-89f2c5b97179",
   "metadata": {},
   "outputs": [
    {
     "data": {
      "text/plain": [
       "'hi how are you'"
      ]
     },
     "execution_count": 57,
     "metadata": {},
     "output_type": "execute_result"
    }
   ],
   "source": [
    "s1[::]\n",
    "# nothing mentioned means start=0:stop=last letter:step=1 i.e all included"
   ]
  },
  {
   "cell_type": "code",
   "execution_count": null,
   "id": "9982dbdb-0b8b-496c-ba5a-4bc61f6b5008",
   "metadata": {},
   "outputs": [],
   "source": []
  },
  {
   "cell_type": "code",
   "execution_count": 58,
   "id": "9da02a58-e316-4a62-a0d8-cee7c1100e03",
   "metadata": {},
   "outputs": [
    {
     "data": {
      "text/plain": [
       "''"
      ]
     },
     "execution_count": 58,
     "metadata": {},
     "output_type": "execute_result"
    }
   ],
   "source": [
    "s1[1:10:-3] # not possible therefore empty string"
   ]
  },
  {
   "cell_type": "code",
   "execution_count": null,
   "id": "e3a6fde5-a8ab-4dec-afba-c72ced90a316",
   "metadata": {},
   "outputs": [],
   "source": []
  },
  {
   "cell_type": "code",
   "execution_count": null,
   "id": "9d4923f7-0350-41ac-8182-1d6453e7e9c8",
   "metadata": {},
   "outputs": [],
   "source": []
  },
  {
   "cell_type": "markdown",
   "id": "447c1255-5598-4044-af87-726534fafc23",
   "metadata": {},
   "source": [
    "# String Methods"
   ]
  },
  {
   "cell_type": "markdown",
   "id": "7320608c-f4f9-4957-a2fe-d94ed855638f",
   "metadata": {},
   "source": [
    "- import package_name\n",
    "- dir(package_name)\n",
    "- help(package_name . method_name)"
   ]
  },
  {
   "cell_type": "code",
   "execution_count": 59,
   "id": "bd416555-6de8-427b-b914-5821294cae46",
   "metadata": {},
   "outputs": [
    {
     "data": {
      "text/plain": [
       "['__add__',\n",
       " '__class__',\n",
       " '__contains__',\n",
       " '__delattr__',\n",
       " '__dir__',\n",
       " '__doc__',\n",
       " '__eq__',\n",
       " '__format__',\n",
       " '__ge__',\n",
       " '__getattribute__',\n",
       " '__getitem__',\n",
       " '__getnewargs__',\n",
       " '__gt__',\n",
       " '__hash__',\n",
       " '__init__',\n",
       " '__init_subclass__',\n",
       " '__iter__',\n",
       " '__le__',\n",
       " '__len__',\n",
       " '__lt__',\n",
       " '__mod__',\n",
       " '__mul__',\n",
       " '__ne__',\n",
       " '__new__',\n",
       " '__reduce__',\n",
       " '__reduce_ex__',\n",
       " '__repr__',\n",
       " '__rmod__',\n",
       " '__rmul__',\n",
       " '__setattr__',\n",
       " '__sizeof__',\n",
       " '__str__',\n",
       " '__subclasshook__',\n",
       " 'capitalize',\n",
       " 'casefold',\n",
       " 'center',\n",
       " 'count',\n",
       " 'encode',\n",
       " 'endswith',\n",
       " 'expandtabs',\n",
       " 'find',\n",
       " 'format',\n",
       " 'format_map',\n",
       " 'index',\n",
       " 'isalnum',\n",
       " 'isalpha',\n",
       " 'isascii',\n",
       " 'isdecimal',\n",
       " 'isdigit',\n",
       " 'isidentifier',\n",
       " 'islower',\n",
       " 'isnumeric',\n",
       " 'isprintable',\n",
       " 'isspace',\n",
       " 'istitle',\n",
       " 'isupper',\n",
       " 'join',\n",
       " 'ljust',\n",
       " 'lower',\n",
       " 'lstrip',\n",
       " 'maketrans',\n",
       " 'partition',\n",
       " 'removeprefix',\n",
       " 'removesuffix',\n",
       " 'replace',\n",
       " 'rfind',\n",
       " 'rindex',\n",
       " 'rjust',\n",
       " 'rpartition',\n",
       " 'rsplit',\n",
       " 'rstrip',\n",
       " 'split',\n",
       " 'splitlines',\n",
       " 'startswith',\n",
       " 'strip',\n",
       " 'swapcase',\n",
       " 'title',\n",
       " 'translate',\n",
       " 'upper',\n",
       " 'zfill']"
      ]
     },
     "execution_count": 59,
     "metadata": {},
     "output_type": "execute_result"
    }
   ],
   "source": [
    "dir('')"
   ]
  },
  {
   "cell_type": "markdown",
   "id": "c5ade955-cff4-49fa-8a36-5247db044929",
   "metadata": {},
   "source": [
    "# $ capitalize $"
   ]
  },
  {
   "cell_type": "code",
   "execution_count": 60,
   "id": "a146174c-b6be-4fd4-bd11-65e259b79edd",
   "metadata": {},
   "outputs": [
    {
     "data": {
      "text/plain": [
       "'Python'"
      ]
     },
     "execution_count": 60,
     "metadata": {},
     "output_type": "execute_result"
    }
   ],
   "source": [
    "s=\"python\"\n",
    "s.capitalize()"
   ]
  },
  {
   "cell_type": "markdown",
   "id": "a35bc42e-121e-4501-aaea-7d9ae5f642f6",
   "metadata": {},
   "source": [
    "# upper"
   ]
  },
  {
   "cell_type": "code",
   "execution_count": 61,
   "id": "72e97248-4afb-4080-967a-a75fc262c0be",
   "metadata": {},
   "outputs": [
    {
     "data": {
      "text/plain": [
       "'PYTHON'"
      ]
     },
     "execution_count": 61,
     "metadata": {},
     "output_type": "execute_result"
    }
   ],
   "source": [
    "s.upper()"
   ]
  },
  {
   "cell_type": "code",
   "execution_count": 62,
   "id": "8221dbe9-0f93-4c7d-a9d3-b74b83bf38dc",
   "metadata": {},
   "outputs": [
    {
     "data": {
      "text/plain": [
       "'python'"
      ]
     },
     "execution_count": 62,
     "metadata": {},
     "output_type": "execute_result"
    }
   ],
   "source": [
    "s.lower()"
   ]
  },
  {
   "cell_type": "code",
   "execution_count": 63,
   "id": "1d6893ff-95f0-4ff0-8096-b576f93f5e2a",
   "metadata": {},
   "outputs": [
    {
     "name": "stdout",
     "output_type": "stream",
     "text": [
      "Syed ausaf haider\n",
      "syed ausaf haider\n",
      "SYED AUSAF HAIDER\n"
     ]
    }
   ],
   "source": [
    "s=\"Syed Ausaf Haider\"\n",
    "print(s.capitalize())\n",
    "print(s.lower())\n",
    "print(s.upper())\n"
   ]
  },
  {
   "cell_type": "code",
   "execution_count": null,
   "id": "7cc76f2b-38fa-4f8b-bbf0-b74f573a3897",
   "metadata": {},
   "outputs": [],
   "source": []
  },
  {
   "cell_type": "code",
   "execution_count": 64,
   "id": "28ab694f-009e-4cd4-b8ae-f04e475c63da",
   "metadata": {},
   "outputs": [],
   "source": [
    "# WAP welcome to weLcome using index"
   ]
  },
  {
   "cell_type": "code",
   "execution_count": 65,
   "id": "b1815b7b-73bf-402c-8a65-664437c051de",
   "metadata": {},
   "outputs": [
    {
     "name": "stdout",
     "output_type": "stream",
     "text": [
      "we\n",
      "come\n",
      "weLcome\n"
     ]
    }
   ],
   "source": [
    "s='welcome'\n",
    "s1=''\n",
    "s2=''\n",
    "for i in s[:2]:\n",
    "    s1+=i\n",
    "print(s1)\n",
    "for i in s[3:]:\n",
    "    s2+=i\n",
    "print(s2)\n",
    "print(s1+'L'+s2)"
   ]
  },
  {
   "cell_type": "code",
   "execution_count": null,
   "id": "c6c7cee7-e3ea-44bc-9d46-fbdd7045f915",
   "metadata": {},
   "outputs": [],
   "source": []
  },
  {
   "cell_type": "markdown",
   "id": "e16b9b42-814c-4040-8e4f-36f6781efc61",
   "metadata": {},
   "source": [
    "# replace"
   ]
  },
  {
   "cell_type": "code",
   "execution_count": 66,
   "id": "b3207261-5683-4984-bba1-5f81432ce612",
   "metadata": {},
   "outputs": [
    {
     "data": {
      "text/plain": [
       "'weLcome'"
      ]
     },
     "execution_count": 66,
     "metadata": {},
     "output_type": "execute_result"
    }
   ],
   "source": [
    "s.replace('l','L')"
   ]
  },
  {
   "cell_type": "markdown",
   "id": "c78aab91-c802-4526-95a5-6821e9467c14",
   "metadata": {},
   "source": [
    "# casefold() ==> same as lowercase"
   ]
  },
  {
   "cell_type": "code",
   "execution_count": 67,
   "id": "3470cbb1-0a95-4182-a0cd-5c82b367dd04",
   "metadata": {},
   "outputs": [
    {
     "data": {
      "text/plain": [
       "'welcome'"
      ]
     },
     "execution_count": 67,
     "metadata": {},
     "output_type": "execute_result"
    }
   ],
   "source": [
    "s"
   ]
  },
  {
   "cell_type": "code",
   "execution_count": 68,
   "id": "499e73f0-c117-45ab-873e-27d2421c7670",
   "metadata": {},
   "outputs": [
    {
     "data": {
      "text/plain": [
       "'welcome'"
      ]
     },
     "execution_count": 68,
     "metadata": {},
     "output_type": "execute_result"
    }
   ],
   "source": [
    "s.casefold()"
   ]
  },
  {
   "cell_type": "code",
   "execution_count": null,
   "id": "c667f330-6f17-4b6f-807d-8e534c03529c",
   "metadata": {},
   "outputs": [],
   "source": []
  },
  {
   "cell_type": "markdown",
   "id": "a81c4fb2-77c8-43fd-b28f-99634f6d14ef",
   "metadata": {},
   "source": [
    "- captilize : First letter as capital\n",
    "- upper : all in upper case\n",
    "- lower : all in lower\n",
    "- casefold : case less comparison (lower case)"
   ]
  },
  {
   "cell_type": "markdown",
   "id": "34f28374-f289-41ed-b85a-c806b6d0a734",
   "metadata": {},
   "source": [
    "# $ count $"
   ]
  },
  {
   "cell_type": "code",
   "execution_count": 70,
   "id": "a03b7460-df59-4b89-8b6c-357fa55228b6",
   "metadata": {},
   "outputs": [
    {
     "data": {
      "text/plain": [
       "2"
      ]
     },
     "execution_count": 70,
     "metadata": {},
     "output_type": "execute_result"
    }
   ],
   "source": [
    "s='hi how are you'\n",
    "s.count('o')"
   ]
  },
  {
   "cell_type": "code",
   "execution_count": 75,
   "id": "299769f7-13f4-4746-8cbd-560d6b355a17",
   "metadata": {},
   "outputs": [],
   "source": [
    "s='ola ola ola'"
   ]
  },
  {
   "cell_type": "code",
   "execution_count": 79,
   "id": "ecfed375-8fb2-4fad-92a6-b27beb432b53",
   "metadata": {},
   "outputs": [
    {
     "name": "stdout",
     "output_type": "stream",
     "text": [
      "3\n",
      "2\n",
      "2\n",
      "1\n",
      "0\n"
     ]
    }
   ],
   "source": [
    "print(s.count('ola'))\n",
    "print(s.count(' ola'))\n",
    "print(s.count('ola '))\n",
    "print(s.count(' ola '))\n",
    "print(s.count('oa')) # checks 'oa' as consecutive "
   ]
  },
  {
   "cell_type": "code",
   "execution_count": 80,
   "id": "ab1a4bd8-782d-4e46-86b5-4dc8ef045562",
   "metadata": {},
   "outputs": [
    {
     "data": {
      "text/plain": [
       "'ola ola ola'"
      ]
     },
     "execution_count": 80,
     "metadata": {},
     "output_type": "execute_result"
    }
   ],
   "source": [
    "s"
   ]
  },
  {
   "cell_type": "code",
   "execution_count": 81,
   "id": "cbad61a6-6ca2-4c09-948f-216583102be9",
   "metadata": {},
   "outputs": [],
   "source": [
    "# after 2nd 'o' how many o are present ?\n",
    "# i.e  after 4th index"
   ]
  },
  {
   "cell_type": "code",
   "execution_count": 82,
   "id": "444b7d71-538a-4ff6-94e2-ff2505ee3028",
   "metadata": {},
   "outputs": [
    {
     "name": "stdout",
     "output_type": "stream",
     "text": [
      "2\n"
     ]
    }
   ],
   "source": [
    "print(s.count('a',4))"
   ]
  },
  {
   "cell_type": "code",
   "execution_count": 83,
   "id": "71d4ccad-25ca-470a-96eb-50d489b3263e",
   "metadata": {},
   "outputs": [],
   "source": [
    "# after 4th and before 7th index"
   ]
  },
  {
   "cell_type": "code",
   "execution_count": 85,
   "id": "87bacd9d-4cfc-4136-bd8e-07ef834c1f06",
   "metadata": {},
   "outputs": [
    {
     "name": "stdout",
     "output_type": "stream",
     "text": [
      "1\n"
     ]
    }
   ],
   "source": [
    "print(s.count('a',4,7)) # checking only 4,5,6 index"
   ]
  },
  {
   "cell_type": "code",
   "execution_count": null,
   "id": "2e72ced7-6d50-4988-be15-97de78d78ea0",
   "metadata": {},
   "outputs": [],
   "source": []
  },
  {
   "cell_type": "code",
   "execution_count": 86,
   "id": "b171123d-b239-4cd1-b019-3bd684d44048",
   "metadata": {},
   "outputs": [],
   "source": [
    "# How many 'ola' are there ?"
   ]
  },
  {
   "cell_type": "code",
   "execution_count": 95,
   "id": "479960ef-11b5-4378-a735-0018ba5fcc62",
   "metadata": {},
   "outputs": [
    {
     "name": "stdout",
     "output_type": "stream",
     "text": [
      "3\n"
     ]
    }
   ],
   "source": [
    "c=0\n",
    "for i in range(len(s)):\n",
    "    if s[i:i+3] == 'ola':                ## very very important\n",
    "        c+=1\n",
    "print(c)"
   ]
  },
  {
   "cell_type": "code",
   "execution_count": 96,
   "id": "8d7af5b0-1216-434b-872a-a5668285ca8e",
   "metadata": {},
   "outputs": [
    {
     "data": {
      "text/plain": [
       "3"
      ]
     },
     "execution_count": 96,
     "metadata": {},
     "output_type": "execute_result"
    }
   ],
   "source": [
    "s.count('ola')"
   ]
  },
  {
   "cell_type": "code",
   "execution_count": null,
   "id": "ca7ef5ca-64e7-4652-b6e1-1b9ed179fb2f",
   "metadata": {},
   "outputs": [],
   "source": []
  },
  {
   "cell_type": "markdown",
   "id": "e088b49e-c317-467e-9fc8-9a5957cf6d18",
   "metadata": {},
   "source": [
    "# replace(,,)  -1 replace all occurances"
   ]
  },
  {
   "cell_type": "code",
   "execution_count": 99,
   "id": "7381380c-2f83-489d-b1de-cabba9baef9e",
   "metadata": {},
   "outputs": [
    {
     "data": {
      "text/plain": [
       "'weLsnvscome'"
      ]
     },
     "execution_count": 99,
     "metadata": {},
     "output_type": "execute_result"
    }
   ],
   "source": [
    "s='welcome'\n",
    "s.replace('l','Lsnvs')"
   ]
  },
  {
   "cell_type": "code",
   "execution_count": 103,
   "id": "01501248-7e60-477b-8f16-fd12cdecb750",
   "metadata": {},
   "outputs": [
    {
     "data": {
      "text/plain": [
       "'$esta$t'"
      ]
     },
     "execution_count": 103,
     "metadata": {},
     "output_type": "execute_result"
    }
   ],
   "source": [
    "s='restart'\n",
    "s.replace('r','$') # $ repalced all r"
   ]
  },
  {
   "cell_type": "markdown",
   "id": "1b1d3ab8-ceba-4a1a-beb4-958f3581a0ec",
   "metadata": {},
   "source": [
    "# replacing only 1st occurance using (,,1)"
   ]
  },
  {
   "cell_type": "code",
   "execution_count": 104,
   "id": "59057f1c-d508-46a0-b12c-fd1cdb301103",
   "metadata": {},
   "outputs": [
    {
     "data": {
      "text/plain": [
       "'$estart'"
      ]
     },
     "execution_count": 104,
     "metadata": {},
     "output_type": "execute_result"
    }
   ],
   "source": [
    "s.replace('r','$',1)"
   ]
  },
  {
   "cell_type": "markdown",
   "id": "798fa8ae-b1ab-4183-9783-be9941c5c50e",
   "metadata": {},
   "source": [
    "# replacing last r using ('')"
   ]
  },
  {
   "cell_type": "code",
   "execution_count": 110,
   "id": "582de149-2982-4d5b-81e4-a97bfaa9e7e2",
   "metadata": {},
   "outputs": [
    {
     "data": {
      "text/plain": [
       "'resta$t'"
      ]
     },
     "execution_count": 110,
     "metadata": {},
     "output_type": "execute_result"
    }
   ],
   "source": [
    "s[0]+s[1:].replace('r','$',)"
   ]
  },
  {
   "cell_type": "code",
   "execution_count": 111,
   "id": "44f355cf-611d-4e24-b42d-15ebc5d2b9d7",
   "metadata": {},
   "outputs": [
    {
     "data": {
      "text/plain": [
       "'resta$t'"
      ]
     },
     "execution_count": 111,
     "metadata": {},
     "output_type": "execute_result"
    }
   ],
   "source": [
    "s[::-1].replace('r','$',1)[::-1]"
   ]
  },
  {
   "cell_type": "code",
   "execution_count": null,
   "id": "f387a2dd-c7c0-4a68-8f34-bdcb5bddba31",
   "metadata": {},
   "outputs": [],
   "source": []
  },
  {
   "cell_type": "markdown",
   "id": "80b3a567-81f6-4a5d-87dd-99c468397b08",
   "metadata": {},
   "source": [
    "# index()"
   ]
  },
  {
   "cell_type": "code",
   "execution_count": 113,
   "id": "edada2b3-002c-478a-a53e-42902c503a4e",
   "metadata": {},
   "outputs": [
    {
     "data": {
      "text/plain": [
       "1"
      ]
     },
     "execution_count": 113,
     "metadata": {},
     "output_type": "execute_result"
    }
   ],
   "source": [
    "s='welcome'\n",
    "s.index('e')"
   ]
  },
  {
   "cell_type": "code",
   "execution_count": 114,
   "id": "629456d1-a32c-4b12-9a11-47116babe7f4",
   "metadata": {},
   "outputs": [],
   "source": [
    "# after first 'e'"
   ]
  },
  {
   "cell_type": "code",
   "execution_count": 116,
   "id": "4baf1802-f0ee-44d6-888e-72de70aa677c",
   "metadata": {},
   "outputs": [
    {
     "data": {
      "text/plain": [
       "6"
      ]
     },
     "execution_count": 116,
     "metadata": {},
     "output_type": "execute_result"
    }
   ],
   "source": [
    "s.index('e',2)"
   ]
  },
  {
   "cell_type": "code",
   "execution_count": null,
   "id": "689fdb1b-6f33-40ba-8b15-79fb7b1bb4eb",
   "metadata": {},
   "outputs": [],
   "source": []
  },
  {
   "cell_type": "code",
   "execution_count": 121,
   "id": "e594bebe-4b2f-409e-8070-e4a1c8aa1929",
   "metadata": {},
   "outputs": [
    {
     "name": "stdout",
     "output_type": "stream",
     "text": [
      "1\n",
      "5\n",
      "9\n",
      "13\n"
     ]
    }
   ],
   "source": [
    "s='hai hai hai hai'\n",
    "print(s.index('a'))\n",
    "print(s.index('a',1+1))\n",
    "print(s.index('a',5+1))\n",
    "print(s.index('a',9+1))\n",
    "# print(s.index('a',i+1) generalized"
   ]
  },
  {
   "cell_type": "markdown",
   "id": "e6d099fe-0319-440e-8042-9c03a3113f61",
   "metadata": {},
   "source": [
    "# find()"
   ]
  },
  {
   "cell_type": "code",
   "execution_count": 125,
   "id": "4d8330a0-c780-4d1a-a498-3e1c0d34708a",
   "metadata": {},
   "outputs": [
    {
     "ename": "ValueError",
     "evalue": "substring not found",
     "output_type": "error",
     "traceback": [
      "\u001b[1;31m---------------------------------------------------------------------------\u001b[0m",
      "\u001b[1;31mValueError\u001b[0m                                Traceback (most recent call last)",
      "Cell \u001b[1;32mIn[125], line 4\u001b[0m\n\u001b[0;32m      1\u001b[0m s\u001b[38;5;241m=\u001b[39m\u001b[38;5;124m'\u001b[39m\u001b[38;5;124mhai hai\u001b[39m\u001b[38;5;124m'\u001b[39m\n\u001b[0;32m      2\u001b[0m s\u001b[38;5;241m.\u001b[39mfind(\u001b[38;5;124m'\u001b[39m\u001b[38;5;124mx\u001b[39m\u001b[38;5;124m'\u001b[39m) \u001b[38;5;66;03m# returns -1          =======> learn\u001b[39;00m\n\u001b[1;32m----> 4\u001b[0m \u001b[43ms\u001b[49m\u001b[38;5;241;43m.\u001b[39;49m\u001b[43mindex\u001b[49m\u001b[43m(\u001b[49m\u001b[38;5;124;43m'\u001b[39;49m\u001b[38;5;124;43mx\u001b[39;49m\u001b[38;5;124;43m'\u001b[39;49m\u001b[43m)\u001b[49m\n",
      "\u001b[1;31mValueError\u001b[0m: substring not found"
     ]
    }
   ],
   "source": [
    "s='hai hai'\n",
    "s.find('x') # returns -1          =======> learn\n",
    "\n",
    "s.index('x') # learn errror below"
   ]
  },
  {
   "cell_type": "code",
   "execution_count": 127,
   "id": "05f39279-f83c-401b-ab1e-77b57f30766e",
   "metadata": {},
   "outputs": [
    {
     "data": {
      "text/plain": [
       "0"
      ]
     },
     "execution_count": 127,
     "metadata": {},
     "output_type": "execute_result"
    }
   ],
   "source": [
    "s.count('x')  # learn gives 0 when not found"
   ]
  },
  {
   "cell_type": "code",
   "execution_count": null,
   "id": "41fbec46-b97b-45c9-88d9-1798b617709d",
   "metadata": {},
   "outputs": [],
   "source": []
  },
  {
   "cell_type": "code",
   "execution_count": null,
   "id": "e9bed6ba-4be1-4458-a559-84590aba85c9",
   "metadata": {},
   "outputs": [],
   "source": []
  },
  {
   "cell_type": "markdown",
   "id": "83a02d86-ff0f-437e-921c-4f31c4d2593c",
   "metadata": {},
   "source": [
    "# 15 nov"
   ]
  },
  {
   "cell_type": "markdown",
   "id": "d914172e-c829-4f35-9101-c8b1279164ef",
   "metadata": {},
   "source": [
    "# strip()"
   ]
  },
  {
   "cell_type": "code",
   "execution_count": 5,
   "id": "a5f56dd5-9259-4c71-bc79-3a229321c5ee",
   "metadata": {},
   "outputs": [
    {
     "name": "stdout",
     "output_type": "stream",
     "text": [
      "hello how are you\n",
      "hello how are you\n",
      "hello how are you\n"
     ]
    }
   ],
   "source": [
    "s1=' hello how are you '\n",
    "s2=' hello how are you'\n",
    "s3='hello how are you '\n",
    "print(s1.strip())      # remove both side spaces\n",
    "print(s2.lstrip())     # remove left side strip\n",
    "print(s3.rstrip())     # remove right side strip\n"
   ]
  },
  {
   "cell_type": "code",
   "execution_count": null,
   "id": "e672c1e3-8b6f-471d-badc-0c97c1589152",
   "metadata": {},
   "outputs": [],
   "source": []
  },
  {
   "cell_type": "code",
   "execution_count": 33,
   "id": "6f58eb99-b1e1-47d7-9b34-abc9118e1e40",
   "metadata": {},
   "outputs": [
    {
     "name": "stdout",
     "output_type": "stream",
     "text": [
      "\n"
     ]
    }
   ],
   "source": [
    "# wap to extract 1. first second and third name\n",
    "s='python.anaconda@ausaf.com'\n",
    "#print(s[:s.find('.')])\n",
    "\n",
    "\n",
    "#print(s[s.find('.')+1:s.find('@')])\n",
    "\n",
    "print(s[s.find('@')+1:s.find('.')])\n"
   ]
  },
  {
   "cell_type": "code",
   "execution_count": 6,
   "id": "b408fe73-2d51-4220-9831-d6ff9deff368",
   "metadata": {},
   "outputs": [
    {
     "name": "stdout",
     "output_type": "stream",
     "text": [
      "ausaf\n"
     ]
    }
   ],
   "source": [
    "print(s[s.find('@') + 1:s.find('.', s.find('@'))]) #starts searching for . after the @, which correctly identifies the ."
   ]
  },
  {
   "cell_type": "code",
   "execution_count": 8,
   "id": "f608a02f-7a80-4084-92a8-cc03bcb529b1",
   "metadata": {},
   "outputs": [
    {
     "name": "stdout",
     "output_type": "stream",
     "text": [
      "31\n"
     ]
    }
   ],
   "source": [
    "s1='31.424'\n",
    "print(s1[:s1.find('.')])"
   ]
  },
  {
   "cell_type": "code",
   "execution_count": 10,
   "id": "175cc163-1172-4217-a28d-d3e88732e47b",
   "metadata": {},
   "outputs": [
    {
     "name": "stdout",
     "output_type": "stream",
     "text": [
      "424\n"
     ]
    }
   ],
   "source": [
    "print(s1[s1.find('.')+1:])"
   ]
  },
  {
   "cell_type": "code",
   "execution_count": null,
   "id": "67f1f755-85f1-40b0-b69e-0b3f29c26bf3",
   "metadata": {},
   "outputs": [],
   "source": []
  },
  {
   "cell_type": "markdown",
   "id": "fede2744-1be1-41aa-a5be-deeb6811f4ad",
   "metadata": {},
   "source": [
    "# startswith()  endswith()"
   ]
  },
  {
   "cell_type": "code",
   "execution_count": 11,
   "id": "18e955d5-1ec1-4cdf-ada1-36fd4a3e2788",
   "metadata": {},
   "outputs": [],
   "source": [
    "s='hai how are you'"
   ]
  },
  {
   "cell_type": "code",
   "execution_count": 12,
   "id": "01ba45ea-b3a8-42f8-9cce-6a91186fe3af",
   "metadata": {},
   "outputs": [
    {
     "data": {
      "text/plain": [
       "True"
      ]
     },
     "execution_count": 12,
     "metadata": {},
     "output_type": "execute_result"
    }
   ],
   "source": [
    "s.startswith('hai')"
   ]
  },
  {
   "cell_type": "code",
   "execution_count": 13,
   "id": "5b866e0d-f04a-4998-9906-b68425f886d8",
   "metadata": {},
   "outputs": [
    {
     "data": {
      "text/plain": [
       "True"
      ]
     },
     "execution_count": 13,
     "metadata": {},
     "output_type": "execute_result"
    }
   ],
   "source": [
    "s.startswith('h')"
   ]
  },
  {
   "cell_type": "code",
   "execution_count": 14,
   "id": "ca778859-008d-4d29-9e07-56234ba8571c",
   "metadata": {},
   "outputs": [
    {
     "data": {
      "text/plain": [
       "True"
      ]
     },
     "execution_count": 14,
     "metadata": {},
     "output_type": "execute_result"
    }
   ],
   "source": [
    "s.endswith('you')"
   ]
  },
  {
   "cell_type": "code",
   "execution_count": 15,
   "id": "fae6dc73-d285-44a3-b074-1118efd69a2b",
   "metadata": {},
   "outputs": [
    {
     "data": {
      "text/plain": [
       "True"
      ]
     },
     "execution_count": 15,
     "metadata": {},
     "output_type": "execute_result"
    }
   ],
   "source": [
    "s.endswith('u')"
   ]
  },
  {
   "cell_type": "code",
   "execution_count": 16,
   "id": "d60f97d7-2140-47b1-9e52-bc8a12946f2c",
   "metadata": {},
   "outputs": [
    {
     "data": {
      "text/plain": [
       "True"
      ]
     },
     "execution_count": 16,
     "metadata": {},
     "output_type": "execute_result"
    }
   ],
   "source": [
    "s.endswith(s)"
   ]
  },
  {
   "cell_type": "code",
   "execution_count": 17,
   "id": "9949a189-4777-4c32-b86b-a8ec773440e2",
   "metadata": {},
   "outputs": [
    {
     "data": {
      "text/plain": [
       "True"
      ]
     },
     "execution_count": 17,
     "metadata": {},
     "output_type": "execute_result"
    }
   ],
   "source": [
    "s.startswith(s)"
   ]
  },
  {
   "cell_type": "code",
   "execution_count": null,
   "id": "91335a6e-aba9-4758-86f6-81050ea468e2",
   "metadata": {},
   "outputs": [],
   "source": []
  },
  {
   "cell_type": "code",
   "execution_count": null,
   "id": "7ffa42c0-a8a4-48e9-8e55-3463845fac5f",
   "metadata": {},
   "outputs": [],
   "source": []
  },
  {
   "cell_type": "code",
   "execution_count": 18,
   "id": "17b65601-5a5d-49b6-ac40-9aace8f50093",
   "metadata": {},
   "outputs": [
    {
     "data": {
      "text/plain": [
       "['__add__',\n",
       " '__class__',\n",
       " '__contains__',\n",
       " '__delattr__',\n",
       " '__dir__',\n",
       " '__doc__',\n",
       " '__eq__',\n",
       " '__format__',\n",
       " '__ge__',\n",
       " '__getattribute__',\n",
       " '__getitem__',\n",
       " '__getnewargs__',\n",
       " '__gt__',\n",
       " '__hash__',\n",
       " '__init__',\n",
       " '__init_subclass__',\n",
       " '__iter__',\n",
       " '__le__',\n",
       " '__len__',\n",
       " '__lt__',\n",
       " '__mod__',\n",
       " '__mul__',\n",
       " '__ne__',\n",
       " '__new__',\n",
       " '__reduce__',\n",
       " '__reduce_ex__',\n",
       " '__repr__',\n",
       " '__rmod__',\n",
       " '__rmul__',\n",
       " '__setattr__',\n",
       " '__sizeof__',\n",
       " '__str__',\n",
       " '__subclasshook__',\n",
       " 'capitalize',\n",
       " 'casefold',\n",
       " 'center',\n",
       " 'count',\n",
       " 'encode',\n",
       " 'endswith',\n",
       " 'expandtabs',\n",
       " 'find',\n",
       " 'format',\n",
       " 'format_map',\n",
       " 'index',\n",
       " 'isalnum',\n",
       " 'isalpha',\n",
       " 'isascii',\n",
       " 'isdecimal',\n",
       " 'isdigit',\n",
       " 'isidentifier',\n",
       " 'islower',\n",
       " 'isnumeric',\n",
       " 'isprintable',\n",
       " 'isspace',\n",
       " 'istitle',\n",
       " 'isupper',\n",
       " 'join',\n",
       " 'ljust',\n",
       " 'lower',\n",
       " 'lstrip',\n",
       " 'maketrans',\n",
       " 'partition',\n",
       " 'removeprefix',\n",
       " 'removesuffix',\n",
       " 'replace',\n",
       " 'rfind',\n",
       " 'rindex',\n",
       " 'rjust',\n",
       " 'rpartition',\n",
       " 'rsplit',\n",
       " 'rstrip',\n",
       " 'split',\n",
       " 'splitlines',\n",
       " 'startswith',\n",
       " 'strip',\n",
       " 'swapcase',\n",
       " 'title',\n",
       " 'translate',\n",
       " 'upper',\n",
       " 'zfill']"
      ]
     },
     "execution_count": 18,
     "metadata": {},
     "output_type": "execute_result"
    }
   ],
   "source": [
    "dir('')"
   ]
  },
  {
   "cell_type": "code",
   "execution_count": 19,
   "id": "5a4e4ac2-b421-4a16-8b3e-07bbf42e3e8e",
   "metadata": {},
   "outputs": [
    {
     "ename": "IndentationError",
     "evalue": "unexpected indent (3916155011.py, line 2)",
     "output_type": "error",
     "traceback": [
      "\u001b[1;36m  Cell \u001b[1;32mIn[19], line 2\u001b[1;36m\u001b[0m\n\u001b[1;33m    'isalpha',\u001b[0m\n\u001b[1;37m    ^\u001b[0m\n\u001b[1;31mIndentationError\u001b[0m\u001b[1;31m:\u001b[0m unexpected indent\n"
     ]
    }
   ],
   "source": [
    "'isalnum',\n",
    " 'isalpha',\n",
    " 'isascii',\n",
    " 'isdecimal',\n",
    " 'isdigit',\n",
    " 'isidentifier',\n",
    " 'islower',\n",
    " 'isnumeric',\n",
    " 'isprintable',\n",
    " 'isspace',\n",
    " 'istitle',"
   ]
  },
  {
   "cell_type": "code",
   "execution_count": null,
   "id": "0c9fe489-c44f-4523-8075-d1d2581e62cb",
   "metadata": {},
   "outputs": [],
   "source": []
  },
  {
   "cell_type": "code",
   "execution_count": 20,
   "id": "c35e8020-d632-4aaf-aca8-d3686190cd1d",
   "metadata": {},
   "outputs": [
    {
     "data": {
      "text/plain": [
       "False"
      ]
     },
     "execution_count": 20,
     "metadata": {},
     "output_type": "execute_result"
    }
   ],
   "source": [
    "s.isalnum()"
   ]
  },
  {
   "cell_type": "code",
   "execution_count": 21,
   "id": "1ec1e071-5b5d-4d70-85af-e70a0bebb65c",
   "metadata": {},
   "outputs": [
    {
     "data": {
      "text/plain": [
       "False"
      ]
     },
     "execution_count": 21,
     "metadata": {},
     "output_type": "execute_result"
    }
   ],
   "source": [
    "s.isalpha()"
   ]
  },
  {
   "cell_type": "code",
   "execution_count": 22,
   "id": "f878aa85-1719-4222-96e4-3b981f795b59",
   "metadata": {},
   "outputs": [
    {
     "data": {
      "text/plain": [
       "False"
      ]
     },
     "execution_count": 22,
     "metadata": {},
     "output_type": "execute_result"
    }
   ],
   "source": [
    "s.isnumeric()"
   ]
  },
  {
   "cell_type": "code",
   "execution_count": 23,
   "id": "a069e4ab-6cfc-4603-96fd-aed051ae151a",
   "metadata": {},
   "outputs": [
    {
     "data": {
      "text/plain": [
       "True"
      ]
     },
     "execution_count": 23,
     "metadata": {},
     "output_type": "execute_result"
    }
   ],
   "source": [
    "s.islower()"
   ]
  },
  {
   "cell_type": "code",
   "execution_count": null,
   "id": "a0dd98ad-0dad-4240-a75e-fe83193aa01a",
   "metadata": {},
   "outputs": [],
   "source": []
  },
  {
   "cell_type": "markdown",
   "id": "8840e9eb-8b67-40f9-9d16-705d4d4957af",
   "metadata": {},
   "source": [
    "# split()"
   ]
  },
  {
   "cell_type": "code",
   "execution_count": 39,
   "id": "865d588a-ac4c-4103-b68b-8d78ebbf362b",
   "metadata": {},
   "outputs": [],
   "source": [
    "s='hai, how are you'"
   ]
  },
  {
   "cell_type": "code",
   "execution_count": 40,
   "id": "17ab5376-bc19-4567-ba15-159296cc4a8e",
   "metadata": {},
   "outputs": [
    {
     "data": {
      "text/plain": [
       "['hai,', 'how', 'are', 'you']"
      ]
     },
     "execution_count": 40,
     "metadata": {},
     "output_type": "execute_result"
    }
   ],
   "source": [
    "s.split() # if nothing provided considers space ===> splits and saves into list"
   ]
  },
  {
   "cell_type": "code",
   "execution_count": 41,
   "id": "43f027a3-774b-4497-85d2-1c15f9eeab27",
   "metadata": {},
   "outputs": [
    {
     "data": {
      "text/plain": [
       "['hai', ' how are you']"
      ]
     },
     "execution_count": 41,
     "metadata": {},
     "output_type": "execute_result"
    }
   ],
   "source": [
    "s.split(',')"
   ]
  },
  {
   "cell_type": "code",
   "execution_count": 42,
   "id": "2d681ef0-95b7-43c5-a0f9-e04787750ba0",
   "metadata": {},
   "outputs": [
    {
     "data": {
      "text/plain": [
       "['hai, h', 'w are y', 'u']"
      ]
     },
     "execution_count": 42,
     "metadata": {},
     "output_type": "execute_result"
    }
   ],
   "source": [
    "s.split('o')"
   ]
  },
  {
   "cell_type": "markdown",
   "id": "af7a2e02-5dd9-4981-906d-91ca1f6bf2e0",
   "metadata": {},
   "source": [
    "# getting 1st element on list "
   ]
  },
  {
   "cell_type": "code",
   "execution_count": 44,
   "id": "e64297c7-02ec-4cb0-8460-e97ab067934a",
   "metadata": {},
   "outputs": [
    {
     "data": {
      "text/plain": [
       "'hai, h'"
      ]
     },
     "execution_count": 44,
     "metadata": {},
     "output_type": "execute_result"
    }
   ],
   "source": [
    "s.split('o')[0]"
   ]
  },
  {
   "cell_type": "code",
   "execution_count": null,
   "id": "44884994-5306-48b5-a3cd-a191ed35f542",
   "metadata": {},
   "outputs": [],
   "source": []
  }
 ],
 "metadata": {
  "kernelspec": {
   "display_name": "Python (myenv)",
   "language": "python",
   "name": "myenv"
  },
  "language_info": {
   "codemirror_mode": {
    "name": "ipython",
    "version": 3
   },
   "file_extension": ".py",
   "mimetype": "text/x-python",
   "name": "python",
   "nbconvert_exporter": "python",
   "pygments_lexer": "ipython3",
   "version": "3.10.16"
  }
 },
 "nbformat": 4,
 "nbformat_minor": 5
}
