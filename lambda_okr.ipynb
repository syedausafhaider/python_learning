{
 "cells": [
  {
   "cell_type": "markdown",
   "id": "79999b4d-ffa6-430f-b564-3b9f4dc42817",
   "metadata": {},
   "source": [
    "# lambda"
   ]
  },
  {
   "cell_type": "markdown",
   "id": "7a0e61b5-dbe0-43f6-89af-9127e3ccf819",
   "metadata": {},
   "source": [
    "# lambda\n",
    "##  lambda argument_name : output"
   ]
  },
  {
   "cell_type": "markdown",
   "id": "692652f9-6d7e-43ef-b549-5991e9673a98",
   "metadata": {},
   "source": [
    "### using 1 argument"
   ]
  },
  {
   "cell_type": "code",
   "execution_count": 4,
   "id": "6eb680e6-d11c-4ac6-ae52-785ceb5c7a57",
   "metadata": {},
   "outputs": [
    {
     "data": {
      "text/plain": [
       "<function __main__.<lambda>(a)>"
      ]
     },
     "execution_count": 4,
     "metadata": {},
     "output_type": "execute_result"
    }
   ],
   "source": [
    "def add(a):\n",
    "    return(a+10)\n",
    "add(10)"
   ]
  },
  {
   "cell_type": "code",
   "execution_count": 6,
   "id": "75014166-bffb-4f1f-b2d8-1ade8d365cc9",
   "metadata": {},
   "outputs": [],
   "source": [
    "add=lambda a:a+10"
   ]
  },
  {
   "cell_type": "code",
   "execution_count": 7,
   "id": "1fe98547-85e2-419e-831c-371009f31f78",
   "metadata": {},
   "outputs": [
    {
     "data": {
      "text/plain": [
       "15"
      ]
     },
     "execution_count": 7,
     "metadata": {},
     "output_type": "execute_result"
    }
   ],
   "source": [
    "add(5)"
   ]
  },
  {
   "cell_type": "code",
   "execution_count": null,
   "id": "95d92582-fbfa-4fc6-bca6-b92ae16481c4",
   "metadata": {},
   "outputs": [],
   "source": []
  },
  {
   "cell_type": "code",
   "execution_count": null,
   "id": "a2ecc191-fb10-4e03-a944-abf7b36da218",
   "metadata": {},
   "outputs": [],
   "source": []
  },
  {
   "cell_type": "code",
   "execution_count": 8,
   "id": "89392d31-6b1d-4881-95e1-89a82c660a48",
   "metadata": {},
   "outputs": [],
   "source": [
    "def cube(x):\n",
    "    return(x*x*x)"
   ]
  },
  {
   "cell_type": "code",
   "execution_count": 9,
   "id": "07e4cb3e-7647-4ac0-a4d8-8c7db1933d42",
   "metadata": {},
   "outputs": [],
   "source": [
    "cube=lambda x:x*x*x "
   ]
  },
  {
   "cell_type": "code",
   "execution_count": 10,
   "id": "38ec1d09-3d05-4191-8b46-73a6efeabe85",
   "metadata": {},
   "outputs": [
    {
     "data": {
      "text/plain": [
       "8"
      ]
     },
     "execution_count": 10,
     "metadata": {},
     "output_type": "execute_result"
    }
   ],
   "source": [
    "cube(2)"
   ]
  },
  {
   "cell_type": "markdown",
   "id": "c3ab9f43-fd54-46e3-99a4-4cebe4413697",
   "metadata": {},
   "source": [
    "### using 2 or more arguments"
   ]
  },
  {
   "cell_type": "code",
   "execution_count": 11,
   "id": "fe5df27d-1056-4315-abc0-0482a8d2d3f4",
   "metadata": {},
   "outputs": [],
   "source": [
    "def add(a,b):\n",
    "    return(a+b)"
   ]
  },
  {
   "cell_type": "code",
   "execution_count": 13,
   "id": "273a162f-b61d-4bd2-90f4-011841e857ce",
   "metadata": {},
   "outputs": [],
   "source": [
    "add=lambda a,b:a+b"
   ]
  },
  {
   "cell_type": "code",
   "execution_count": 14,
   "id": "b551436d-a498-4853-964a-1ddd4c24ff44",
   "metadata": {},
   "outputs": [
    {
     "data": {
      "text/plain": [
       "5"
      ]
     },
     "execution_count": 14,
     "metadata": {},
     "output_type": "execute_result"
    }
   ],
   "source": [
    "add(2,3)"
   ]
  },
  {
   "cell_type": "code",
   "execution_count": 15,
   "id": "29bcd20e-2069-4845-b5fd-1d29bce964d9",
   "metadata": {},
   "outputs": [],
   "source": [
    "# average of 3 no.s using lambda\n",
    "avg=lambda a,b,c:(a+b+c)/3"
   ]
  },
  {
   "cell_type": "code",
   "execution_count": 16,
   "id": "e4b82e3b-c34d-44d6-98e3-d63f2021502a",
   "metadata": {},
   "outputs": [
    {
     "data": {
      "text/plain": [
       "1.0"
      ]
     },
     "execution_count": 16,
     "metadata": {},
     "output_type": "execute_result"
    }
   ],
   "source": [
    "avg(1,1,1)"
   ]
  },
  {
   "cell_type": "markdown",
   "id": "2e6a8d89-b8e2-43ef-8cea-08bfceeb70c6",
   "metadata": {},
   "source": [
    "### making one or more arguments as default paramenters"
   ]
  },
  {
   "cell_type": "code",
   "execution_count": 17,
   "id": "7f6eac32-343d-4911-a8b5-a694df80d238",
   "metadata": {},
   "outputs": [],
   "source": [
    "aver= lambda a,b,c=10 : (a+b+c)/10"
   ]
  },
  {
   "cell_type": "code",
   "execution_count": 19,
   "id": "c3598add-153b-4910-bfd7-c68169fb8a5c",
   "metadata": {},
   "outputs": [
    {
     "data": {
      "text/plain": [
       "4.0"
      ]
     },
     "execution_count": 19,
     "metadata": {},
     "output_type": "execute_result"
    }
   ],
   "source": [
    "aver(10,20) #                               =====> no need to provide the default parameter"
   ]
  },
  {
   "cell_type": "code",
   "execution_count": null,
   "id": "eec0ad25-53b5-4420-966e-8c42e30224dc",
   "metadata": {},
   "outputs": [],
   "source": []
  },
  {
   "cell_type": "markdown",
   "id": "948f56ff-9142-43c5-a6f6-9736fdab6277",
   "metadata": {},
   "source": [
    "## if else"
   ]
  },
  {
   "cell_type": "code",
   "execution_count": 20,
   "id": "1ecebbe1-486e-4834-b802-5f80324c3ba3",
   "metadata": {},
   "outputs": [],
   "source": [
    "# create a function to find greater between 2 nos."
   ]
  },
  {
   "cell_type": "code",
   "execution_count": 21,
   "id": "f6422d3c-e5ac-44a3-93cb-747d1f0e95c6",
   "metadata": {},
   "outputs": [
    {
     "data": {
      "text/plain": [
       "3"
      ]
     },
     "execution_count": 21,
     "metadata": {},
     "output_type": "execute_result"
    }
   ],
   "source": [
    "def grt(a,b):\n",
    "    if a>b:\n",
    "        return a\n",
    "    else:\n",
    "        return b\n",
    "grt(2,3)"
   ]
  },
  {
   "cell_type": "markdown",
   "id": "b5b133f1-644b-4591-9cc2-305e1ca04cfd",
   "metadata": {},
   "source": [
    "# using lambda if else\n",
    "## function_name = lambda argument1,argument2 : if_output if_condition else else_output"
   ]
  },
  {
   "cell_type": "code",
   "execution_count": 23,
   "id": "5212d668-9fef-4686-ae5d-6c09a0e15fcd",
   "metadata": {},
   "outputs": [],
   "source": [
    "gretr=lambda a,b: a if a>b else b"
   ]
  },
  {
   "cell_type": "code",
   "execution_count": 24,
   "id": "1dfadc31-3acf-41d8-8943-5e495c48890b",
   "metadata": {},
   "outputs": [
    {
     "data": {
      "text/plain": [
       "3"
      ]
     },
     "execution_count": 24,
     "metadata": {},
     "output_type": "execute_result"
    }
   ],
   "source": [
    "gretr(2,3)"
   ]
  },
  {
   "cell_type": "code",
   "execution_count": null,
   "id": "cd924135-d417-4316-a5fc-e6b8afc61e7b",
   "metadata": {},
   "outputs": [],
   "source": []
  },
  {
   "cell_type": "markdown",
   "id": "133fbb10-37d9-45ab-a90f-fdb2403d9521",
   "metadata": {},
   "source": [
    "# 24 Nov"
   ]
  },
  {
   "cell_type": "code",
   "execution_count": 23,
   "id": "e9d8384c-33a0-4b4a-b893-2ee981cff8ac",
   "metadata": {},
   "outputs": [],
   "source": [
    "list1=['hyd','mumbai','chennai']\n",
    "# output ['Hyd','Mumbai','Chennai']"
   ]
  },
  {
   "cell_type": "code",
   "execution_count": 2,
   "id": "63e05ab3-0b5d-4b6d-976d-ad73aa78c234",
   "metadata": {},
   "outputs": [
    {
     "data": {
      "text/plain": [
       "['Hyd', 'Mumbai', 'Chennai']"
      ]
     },
     "execution_count": 2,
     "metadata": {},
     "output_type": "execute_result"
    }
   ],
   "source": [
    "# method1 append()\n",
    "list2=[]\n",
    "for i in list1:\n",
    "    list2.append(i.capitalize())\n",
    "list2"
   ]
  },
  {
   "cell_type": "code",
   "execution_count": 4,
   "id": "0d9d71e8-9c0d-4444-b6a7-81a343ac26d8",
   "metadata": {},
   "outputs": [],
   "source": [
    "# using list comprehension\n",
    "list3=[i.capitalize() for i in list1]"
   ]
  },
  {
   "cell_type": "code",
   "execution_count": 5,
   "id": "4e1e1393-d16d-4af6-93f0-8bb4e2115fe6",
   "metadata": {},
   "outputs": [
    {
     "data": {
      "text/plain": [
       "['Hyd', 'Mumbai', 'Chennai']"
      ]
     },
     "execution_count": 5,
     "metadata": {},
     "output_type": "execute_result"
    }
   ],
   "source": [
    "list3"
   ]
  },
  {
   "cell_type": "code",
   "execution_count": 6,
   "id": "3b4c5bb8-ce68-4136-b5ba-46cd8c2f1f1e",
   "metadata": {},
   "outputs": [],
   "source": [
    "# using lambda"
   ]
  },
  {
   "cell_type": "markdown",
   "id": "f4272b94-685d-4edd-8cba-ff4b953c514c",
   "metadata": {},
   "source": [
    "# lambda arguments: output , iterator                   ====> learn in case of iterators"
   ]
  },
  {
   "cell_type": "code",
   "execution_count": 28,
   "id": "748cedca-78d8-4102-bcf2-92a8235dc9df",
   "metadata": {},
   "outputs": [],
   "source": [
    "cap=(lambda i: i.capitalize(),list1)"
   ]
  },
  {
   "cell_type": "code",
   "execution_count": 29,
   "id": "a72a8698-77c7-498e-8700-5d8c8092f185",
   "metadata": {},
   "outputs": [
    {
     "data": {
      "text/plain": [
       "(<function __main__.<lambda>(i)>, ['hyd', 'mumbai', 'chennai'])"
      ]
     },
     "execution_count": 29,
     "metadata": {},
     "output_type": "execute_result"
    }
   ],
   "source": [
    "cap"
   ]
  },
  {
   "cell_type": "markdown",
   "id": "68ce703c-cfdd-435d-baf6-fb5807399a96",
   "metadata": {},
   "source": [
    "#  from above the fuction of lambda is created but we need to map input and output so we use map() function"
   ]
  },
  {
   "cell_type": "code",
   "execution_count": 30,
   "id": "3588b7fd-19e7-4d8d-ab8c-c0a0cb305668",
   "metadata": {},
   "outputs": [
    {
     "ename": "TypeError",
     "evalue": "map() must have at least two arguments.",
     "output_type": "error",
     "traceback": [
      "\u001b[1;31m---------------------------------------------------------------------------\u001b[0m",
      "\u001b[1;31mTypeError\u001b[0m                                 Traceback (most recent call last)",
      "Cell \u001b[1;32mIn[30], line 1\u001b[0m\n\u001b[1;32m----> 1\u001b[0m \u001b[38;5;28;43mmap\u001b[39;49m\u001b[43m(\u001b[49m\u001b[43mcap\u001b[49m\u001b[43m)\u001b[49m\n",
      "\u001b[1;31mTypeError\u001b[0m: map() must have at least two arguments."
     ]
    }
   ],
   "source": [
    "map(cap)"
   ]
  },
  {
   "cell_type": "code",
   "execution_count": 31,
   "id": "24d46bd3-f4a8-42ef-9ccd-c39ec6224541",
   "metadata": {},
   "outputs": [],
   "source": [
    "# Now save the mapped functioin in a list "
   ]
  },
  {
   "cell_type": "code",
   "execution_count": 32,
   "id": "ac6e5d82-50a7-43e5-b8e5-987911a24f43",
   "metadata": {},
   "outputs": [
    {
     "ename": "TypeError",
     "evalue": "map() must have at least two arguments.",
     "output_type": "error",
     "traceback": [
      "\u001b[1;31m---------------------------------------------------------------------------\u001b[0m",
      "\u001b[1;31mTypeError\u001b[0m                                 Traceback (most recent call last)",
      "Cell \u001b[1;32mIn[32], line 1\u001b[0m\n\u001b[1;32m----> 1\u001b[0m \u001b[38;5;28mlist\u001b[39m(\u001b[38;5;28;43mmap\u001b[39;49m\u001b[43m(\u001b[49m\u001b[43mcap\u001b[49m\u001b[43m)\u001b[49m)\n",
      "\u001b[1;31mTypeError\u001b[0m: map() must have at least two arguments."
     ]
    }
   ],
   "source": [
    "list(map(cap))"
   ]
  },
  {
   "cell_type": "code",
   "execution_count": null,
   "id": "87c9870e-9bf0-48bb-b8f1-da09fee9df9d",
   "metadata": {},
   "outputs": [],
   "source": []
  },
  {
   "cell_type": "code",
   "execution_count": null,
   "id": "ceeca3f7-008f-4287-9c0e-8f77dcc4a073",
   "metadata": {},
   "outputs": [],
   "source": []
  },
  {
   "cell_type": "markdown",
   "id": "d71da7b5-57be-4de3-af61-df1cf24747f4",
   "metadata": {},
   "source": [
    "# Mapping of lambda function\n",
    "- first make a lambda function\n",
    "- second add the iterator\n",
    "- map both function and iterator\n",
    "- save the result in a list"
   ]
  },
  {
   "cell_type": "code",
   "execution_count": 33,
   "id": "4a0b642c-5264-415b-8bed-f5b9de1eb736",
   "metadata": {},
   "outputs": [
    {
     "data": {
      "text/plain": [
       "['A', 'B', 'C']"
      ]
     },
     "execution_count": 33,
     "metadata": {},
     "output_type": "execute_result"
    }
   ],
   "source": [
    "l1=['a','b','c']\n",
    "lambda i:i.capitalize(),l1\n",
    "map(lambda i:i.capitalize(),l1)\n",
    "list(map(lambda i:i.capitalize(),l1))"
   ]
  },
  {
   "cell_type": "code",
   "execution_count": null,
   "id": "08712efd-17b0-4157-97a5-7491c6da0583",
   "metadata": {},
   "outputs": [],
   "source": []
  },
  {
   "cell_type": "code",
   "execution_count": 34,
   "id": "9f588d58-175e-4655-a707-8939888da410",
   "metadata": {},
   "outputs": [],
   "source": [
    "l2=[1,2,3,4,5]\n",
    "# [1,4,9,16,25]"
   ]
  },
  {
   "cell_type": "code",
   "execution_count": 37,
   "id": "9078bcc8-8e70-4294-a7f8-54f97f29ed87",
   "metadata": {},
   "outputs": [
    {
     "data": {
      "text/plain": [
       "[1, 4, 9, 16, 25]"
      ]
     },
     "execution_count": 37,
     "metadata": {},
     "output_type": "execute_result"
    }
   ],
   "source": [
    "list(map(lambda i:i**2,l2))\n"
   ]
  },
  {
   "cell_type": "code",
   "execution_count": null,
   "id": "e84bef2e-4e56-47bb-b360-46265bd71813",
   "metadata": {},
   "outputs": [],
   "source": []
  },
  {
   "cell_type": "code",
   "execution_count": 46,
   "id": "719dbab7-18ae-4cc1-a82f-44bac4667332",
   "metadata": {},
   "outputs": [
    {
     "data": {
      "text/plain": [
       "[3, 7, 10]"
      ]
     },
     "execution_count": 46,
     "metadata": {},
     "output_type": "execute_result"
    }
   ],
   "source": [
    "l3=[1,3,4]\n",
    "l4=[2,4,6]\n",
    "# [3,7,10]\n",
    "list(map(lambda i,j:i+j,l3,l4))"
   ]
  },
  {
   "cell_type": "code",
   "execution_count": null,
   "id": "155b9b15-f7a5-450e-89bb-289c904ddbdc",
   "metadata": {},
   "outputs": [],
   "source": []
  },
  {
   "cell_type": "markdown",
   "id": "d610bcc0-d3a7-4ce8-bb59-758418214f39",
   "metadata": {},
   "source": [
    "# if and no else condition so we use filter() instead of map()"
   ]
  },
  {
   "cell_type": "code",
   "execution_count": 55,
   "id": "b9ac0f5e-1963-4eba-adb0-d2af96af4513",
   "metadata": {},
   "outputs": [
    {
     "data": {
      "text/plain": [
       "['h#d', 'c#d']"
      ]
     },
     "execution_count": 55,
     "metadata": {},
     "output_type": "execute_result"
    }
   ],
   "source": [
    "l5=['h#d','ab','c#d']\n",
    "# ['h#d','c#d']\n",
    "[i for i in l5 if '#' in i]"
   ]
  },
  {
   "cell_type": "code",
   "execution_count": 59,
   "id": "84724f81-c060-48eb-b907-31b65f99086c",
   "metadata": {},
   "outputs": [
    {
     "data": {
      "text/plain": [
       "[True, False, True]"
      ]
     },
     "execution_count": 59,
     "metadata": {},
     "output_type": "execute_result"
    }
   ],
   "source": [
    "# using lambda\n",
    "list(map(lambda i:'#' in i,l5))             #====================================> condition is only mapping so give T/F so we use filter()"
   ]
  },
  {
   "cell_type": "code",
   "execution_count": 60,
   "id": "fc66c562-bdb4-4d50-a3d7-cc6d7a7dccf0",
   "metadata": {},
   "outputs": [
    {
     "data": {
      "text/plain": [
       "['h#d', 'c#d']"
      ]
     },
     "execution_count": 60,
     "metadata": {},
     "output_type": "execute_result"
    }
   ],
   "source": [
    "list(filter(lambda i:'#' in i,l5))"
   ]
  },
  {
   "cell_type": "markdown",
   "id": "2092cbd8-57e7-432a-a9eb-f48c32253557",
   "metadata": {},
   "source": [
    "# map() is to map the conditions\n",
    "# filter() is to get output of mapped filter"
   ]
  },
  {
   "cell_type": "code",
   "execution_count": null,
   "id": "4c5ee8e5-5ee6-4b64-8f56-4defcd070a0b",
   "metadata": {},
   "outputs": [],
   "source": []
  }
 ],
 "metadata": {
  "kernelspec": {
   "display_name": "Python (myenv)",
   "language": "python",
   "name": "myenv"
  },
  "language_info": {
   "codemirror_mode": {
    "name": "ipython",
    "version": 3
   },
   "file_extension": ".py",
   "mimetype": "text/x-python",
   "name": "python",
   "nbconvert_exporter": "python",
   "pygments_lexer": "ipython3",
   "version": "3.10.16"
  }
 },
 "nbformat": 4,
 "nbformat_minor": 5
}
