{
 "cells": [
  {
   "cell_type": "markdown",
   "id": "62588ca0-627b-4c2b-ad90-334a3d24349b",
   "metadata": {},
   "source": [
    "# List\n",
    "- array of elements\n",
    "- list elements are heterogeneous\n",
    "- duplicates are allowed\n",
    "- list in list allowed\n",
    "- list is mutable"
   ]
  },
  {
   "cell_type": "code",
   "execution_count": 1,
   "id": "1240d399-e832-4913-86cc-6c06e88641ea",
   "metadata": {},
   "outputs": [
    {
     "data": {
      "text/plain": [
       "[1, 2, 3, 4]"
      ]
     },
     "execution_count": 1,
     "metadata": {},
     "output_type": "execute_result"
    }
   ],
   "source": [
    "list1=[1,2,3,4]\n",
    "list1"
   ]
  },
  {
   "cell_type": "code",
   "execution_count": 2,
   "id": "d1bb64e8-e7a3-47f4-9d03-ddbc2c067131",
   "metadata": {},
   "outputs": [
    {
     "data": {
      "text/plain": [
       "['a', 'b', 'c', 'd', 'e']"
      ]
     },
     "execution_count": 2,
     "metadata": {},
     "output_type": "execute_result"
    }
   ],
   "source": [
    "list2=['a','b','c','d','e']\n",
    "list2"
   ]
  },
  {
   "cell_type": "code",
   "execution_count": 3,
   "id": "63dcb2d3-8849-46ca-827a-cdb31dd5a497",
   "metadata": {},
   "outputs": [
    {
     "data": {
      "text/plain": [
       "[1, 2, 3, 4, 'a', 'b']"
      ]
     },
     "execution_count": 3,
     "metadata": {},
     "output_type": "execute_result"
    }
   ],
   "source": [
    "list3=[1,2,3,4,'a','b']\n",
    "list3"
   ]
  },
  {
   "cell_type": "code",
   "execution_count": 4,
   "id": "85079db4-169b-4c3c-a1a2-c0955e8b7020",
   "metadata": {},
   "outputs": [
    {
     "data": {
      "text/plain": [
       "[1, 2, 3, 4, 'apple', 11.2, (11+2j)]"
      ]
     },
     "execution_count": 4,
     "metadata": {},
     "output_type": "execute_result"
    }
   ],
   "source": [
    "list4=[1,2,3,4,'apple',11.2,11+2j]\n",
    "list4"
   ]
  },
  {
   "cell_type": "code",
   "execution_count": 5,
   "id": "5bd27485-19ad-4eb1-bdc8-0e2e5a2d30db",
   "metadata": {},
   "outputs": [
    {
     "data": {
      "text/plain": [
       "[1, 1, 1]"
      ]
     },
     "execution_count": 5,
     "metadata": {},
     "output_type": "execute_result"
    }
   ],
   "source": [
    "list1=[1,1,1]\n",
    "list1"
   ]
  },
  {
   "cell_type": "code",
   "execution_count": 6,
   "id": "d4ce19f6-db03-4e7e-a079-bb44f3c646b3",
   "metadata": {},
   "outputs": [
    {
     "data": {
      "text/plain": [
       "[[2], 2]"
      ]
     },
     "execution_count": 6,
     "metadata": {},
     "output_type": "execute_result"
    }
   ],
   "source": [
    "list2=[[2],2]\n",
    "list2"
   ]
  },
  {
   "cell_type": "code",
   "execution_count": 7,
   "id": "7a5dd23d-2f3a-4f47-aa1a-c7a31860f1ca",
   "metadata": {},
   "outputs": [
    {
     "data": {
      "text/plain": [
       "list"
      ]
     },
     "execution_count": 7,
     "metadata": {},
     "output_type": "execute_result"
    }
   ],
   "source": [
    "type(list2)"
   ]
  },
  {
   "cell_type": "code",
   "execution_count": null,
   "id": "cd6ba8a1-6988-4a65-96fc-9f9f132ed829",
   "metadata": {},
   "outputs": [],
   "source": []
  },
  {
   "cell_type": "code",
   "execution_count": null,
   "id": "2ef8bd80-16f6-4853-9f40-5db8e9a82e7f",
   "metadata": {},
   "outputs": [],
   "source": []
  },
  {
   "cell_type": "markdown",
   "id": "249237cf-35e6-4254-b053-14b33bdf69f3",
   "metadata": {},
   "source": [
    "# max(list1)"
   ]
  },
  {
   "cell_type": "code",
   "execution_count": 8,
   "id": "dc6afc7a-1af2-447d-bb99-876cb157b7d3",
   "metadata": {},
   "outputs": [
    {
     "data": {
      "text/plain": [
       "4"
      ]
     },
     "execution_count": 8,
     "metadata": {},
     "output_type": "execute_result"
    }
   ],
   "source": [
    "list1=[1,2,2,3,4]\n",
    "max(list1)"
   ]
  },
  {
   "cell_type": "code",
   "execution_count": 9,
   "id": "de7e3739-f8d7-426e-90f2-05e308e00023",
   "metadata": {},
   "outputs": [
    {
     "ename": "TypeError",
     "evalue": "'>' not supported between instances of 'int' and 'list'",
     "output_type": "error",
     "traceback": [
      "\u001b[1;31m---------------------------------------------------------------------------\u001b[0m",
      "\u001b[1;31mTypeError\u001b[0m                                 Traceback (most recent call last)",
      "Cell \u001b[1;32mIn[9], line 1\u001b[0m\n\u001b[1;32m----> 1\u001b[0m \u001b[38;5;28;43mmax\u001b[39;49m\u001b[43m(\u001b[49m\u001b[43mlist2\u001b[49m\u001b[43m)\u001b[49m\n",
      "\u001b[1;31mTypeError\u001b[0m: '>' not supported between instances of 'int' and 'list'"
     ]
    }
   ],
   "source": [
    "max(list2)"
   ]
  },
  {
   "cell_type": "code",
   "execution_count": 10,
   "id": "61340673-9b43-4239-8c7d-a33af32dee8f",
   "metadata": {},
   "outputs": [
    {
     "ename": "TypeError",
     "evalue": "'>' not supported between instances of 'str' and 'int'",
     "output_type": "error",
     "traceback": [
      "\u001b[1;31m---------------------------------------------------------------------------\u001b[0m",
      "\u001b[1;31mTypeError\u001b[0m                                 Traceback (most recent call last)",
      "Cell \u001b[1;32mIn[10], line 1\u001b[0m\n\u001b[1;32m----> 1\u001b[0m \u001b[38;5;28;43mmax\u001b[39;49m\u001b[43m(\u001b[49m\u001b[43mlist3\u001b[49m\u001b[43m)\u001b[49m \u001b[38;5;66;03m# HETEROGENEOUS DATATYPE CANT GOVE MAX\u001b[39;00m\n",
      "\u001b[1;31mTypeError\u001b[0m: '>' not supported between instances of 'str' and 'int'"
     ]
    }
   ],
   "source": [
    "max(list3) # HETEROGENEOUS DATATYPE CANT GOVE MAX"
   ]
  },
  {
   "cell_type": "code",
   "execution_count": null,
   "id": "baa191da-980b-4474-839c-0df2c62faf0f",
   "metadata": {},
   "outputs": [],
   "source": []
  },
  {
   "cell_type": "markdown",
   "id": "33d0a9bf-7151-4de8-921b-b5577d2a15ae",
   "metadata": {},
   "source": [
    "# len(list)"
   ]
  },
  {
   "cell_type": "code",
   "execution_count": 11,
   "id": "5331da2a-bdd1-42fb-8ad0-00f2ce55327b",
   "metadata": {},
   "outputs": [
    {
     "data": {
      "text/plain": [
       "5"
      ]
     },
     "execution_count": 11,
     "metadata": {},
     "output_type": "execute_result"
    }
   ],
   "source": [
    "len(list1)"
   ]
  },
  {
   "cell_type": "code",
   "execution_count": 12,
   "id": "f7958683-56b5-4bb1-bf0c-9df9132f3f96",
   "metadata": {},
   "outputs": [
    {
     "data": {
      "text/plain": [
       "2"
      ]
     },
     "execution_count": 12,
     "metadata": {},
     "output_type": "execute_result"
    }
   ],
   "source": [
    "len(list2)"
   ]
  },
  {
   "cell_type": "code",
   "execution_count": 13,
   "id": "ad1147e7-5127-4e21-8071-81edcd0f6c28",
   "metadata": {},
   "outputs": [
    {
     "data": {
      "text/plain": [
       "6"
      ]
     },
     "execution_count": 13,
     "metadata": {},
     "output_type": "execute_result"
    }
   ],
   "source": [
    "len(list3)"
   ]
  },
  {
   "cell_type": "code",
   "execution_count": null,
   "id": "a4344b11-6772-4dfe-b248-5a97bb9475b8",
   "metadata": {},
   "outputs": [],
   "source": []
  },
  {
   "cell_type": "markdown",
   "id": "5924e5c3-35b4-4ba5-a547-32dd0407890a",
   "metadata": {},
   "source": [
    "# sum(list) ==> mathematical sum "
   ]
  },
  {
   "cell_type": "code",
   "execution_count": 14,
   "id": "543f086f-937c-4775-8115-73cc97b85797",
   "metadata": {},
   "outputs": [
    {
     "ename": "TypeError",
     "evalue": "'type' object is not iterable",
     "output_type": "error",
     "traceback": [
      "\u001b[1;31m---------------------------------------------------------------------------\u001b[0m",
      "\u001b[1;31mTypeError\u001b[0m                                 Traceback (most recent call last)",
      "Cell \u001b[1;32mIn[14], line 1\u001b[0m\n\u001b[1;32m----> 1\u001b[0m \u001b[38;5;28;43msum\u001b[39;49m\u001b[43m(\u001b[49m\u001b[38;5;28;43mlist\u001b[39;49m\u001b[43m)\u001b[49m\n",
      "\u001b[1;31mTypeError\u001b[0m: 'type' object is not iterable"
     ]
    }
   ],
   "source": [
    "sum(list)"
   ]
  },
  {
   "cell_type": "code",
   "execution_count": null,
   "id": "83d2504f-27ff-4423-a68d-1b014a230b1a",
   "metadata": {},
   "outputs": [],
   "source": []
  },
  {
   "cell_type": "markdown",
   "id": "327e89c4-662b-45e3-bc3f-004b3119065b",
   "metadata": {},
   "source": [
    "# in(list)"
   ]
  },
  {
   "cell_type": "code",
   "execution_count": 15,
   "id": "8f4ddaa9-5e5d-4744-a4db-3e4d9d1fdf18",
   "metadata": {},
   "outputs": [
    {
     "data": {
      "text/plain": [
       "True"
      ]
     },
     "execution_count": 15,
     "metadata": {},
     "output_type": "execute_result"
    }
   ],
   "source": [
    "1 in list1\n",
    "2 in list1\n",
    "3 in list1\n",
    "4 in list1"
   ]
  },
  {
   "cell_type": "code",
   "execution_count": 16,
   "id": "865c3dcf-28ed-4e50-ad8f-7c58d6ae248a",
   "metadata": {},
   "outputs": [
    {
     "name": "stdout",
     "output_type": "stream",
     "text": [
      "1\n",
      "2\n",
      "2\n",
      "3\n",
      "4\n"
     ]
    }
   ],
   "source": [
    "for i in list1:\n",
    "    print(i)"
   ]
  },
  {
   "cell_type": "code",
   "execution_count": null,
   "id": "1964c7e6-b2f4-47db-b8c8-351cb2d9e216",
   "metadata": {},
   "outputs": [],
   "source": []
  },
  {
   "cell_type": "markdown",
   "id": "89f120c5-7653-42ed-a053-6180e1e6c96e",
   "metadata": {},
   "source": [
    "# concatenation i.e +"
   ]
  },
  {
   "cell_type": "code",
   "execution_count": 17,
   "id": "963c0b5b-c0f2-4d48-adda-3fe75328db90",
   "metadata": {},
   "outputs": [
    {
     "data": {
      "text/plain": [
       "[1, 2, 2, 3, 4, [2], 2]"
      ]
     },
     "execution_count": 17,
     "metadata": {},
     "output_type": "execute_result"
    }
   ],
   "source": [
    "list1+list2"
   ]
  },
  {
   "cell_type": "code",
   "execution_count": null,
   "id": "54a5f6f2-e94a-4059-96ef-90f952372795",
   "metadata": {},
   "outputs": [],
   "source": []
  },
  {
   "cell_type": "code",
   "execution_count": 18,
   "id": "a301f334-8c12-4093-af00-647517c98c2d",
   "metadata": {},
   "outputs": [
    {
     "data": {
      "text/plain": [
       "[1, 2, 2, 3, 4, 1, 2, 2, 3, 4, 1, 2, 2, 3, 4]"
      ]
     },
     "execution_count": 18,
     "metadata": {},
     "output_type": "execute_result"
    }
   ],
   "source": [
    "list1 *3"
   ]
  },
  {
   "cell_type": "code",
   "execution_count": null,
   "id": "f55921e7-0a39-4e48-9ed6-1ba5f6d1bd6d",
   "metadata": {},
   "outputs": [],
   "source": []
  },
  {
   "cell_type": "markdown",
   "id": "4b06eadc-77e5-4f74-9948-d5631a7161f5",
   "metadata": {},
   "source": [
    "# index()        =======> for i in range(len(list32))\n",
    "- python index start with 0"
   ]
  },
  {
   "cell_type": "code",
   "execution_count": 19,
   "id": "fe4a809a-bc20-4a5b-b3f8-3e54e2bb2033",
   "metadata": {},
   "outputs": [
    {
     "data": {
      "text/plain": [
       "[1, 2, 3, 4, 'a', 'b']"
      ]
     },
     "execution_count": 19,
     "metadata": {},
     "output_type": "execute_result"
    }
   ],
   "source": [
    "list3"
   ]
  },
  {
   "cell_type": "code",
   "execution_count": 20,
   "id": "fa7a78f8-d23d-4868-9c27-3d249e05b5f1",
   "metadata": {},
   "outputs": [
    {
     "data": {
      "text/plain": [
       "(1, 2, 3, 4)"
      ]
     },
     "execution_count": 20,
     "metadata": {},
     "output_type": "execute_result"
    }
   ],
   "source": [
    "list3[0],list3[1],list3[2],list3[3]\n",
    "#list[i]"
   ]
  },
  {
   "cell_type": "code",
   "execution_count": 21,
   "id": "f525564c-b49e-44f8-9989-e690a21601c5",
   "metadata": {},
   "outputs": [
    {
     "name": "stdout",
     "output_type": "stream",
     "text": [
      "1 -6 0\n",
      "2 -5 1\n",
      "3 -4 2\n",
      "4 -3 3\n",
      "a -2 4\n",
      "b -1 5\n"
     ]
    }
   ],
   "source": [
    "for i in range(len(list3)):\n",
    "    print(list3[i],i-len(list3),i)\n"
   ]
  },
  {
   "cell_type": "code",
   "execution_count": null,
   "id": "3dfb55ed-9b1b-43c7-91fe-40d3edd3a6eb",
   "metadata": {},
   "outputs": [],
   "source": []
  },
  {
   "cell_type": "code",
   "execution_count": 22,
   "id": "097b256d-3608-4b8b-b370-9f50a3e5467b",
   "metadata": {},
   "outputs": [],
   "source": [
    "# WAP to find the elements having len<3\n",
    "list1=['Apple','Ball','CAt','ab','cd','ef']"
   ]
  },
  {
   "cell_type": "code",
   "execution_count": 23,
   "id": "eef40280-800f-47af-b5b8-e6b6a64bc467",
   "metadata": {},
   "outputs": [
    {
     "name": "stdout",
     "output_type": "stream",
     "text": [
      "ab\n",
      "cd\n",
      "ef\n"
     ]
    }
   ],
   "source": [
    "for i in list1:\n",
    "    if len(i)<3:\n",
    "        print (i)"
   ]
  },
  {
   "cell_type": "code",
   "execution_count": 24,
   "id": "453e5220-db9f-44e7-96b7-d52c14dafa2d",
   "metadata": {},
   "outputs": [
    {
     "name": "stdout",
     "output_type": "stream",
     "text": [
      "ab\n",
      "cd\n",
      "ef\n"
     ]
    }
   ],
   "source": [
    "# using range\n",
    "for i in range(len(list1)):\n",
    "    if len(list1[i])<3:\n",
    "        print(list1[i])"
   ]
  },
  {
   "cell_type": "code",
   "execution_count": null,
   "id": "03b7843a-6983-40aa-b301-a50d6260770d",
   "metadata": {},
   "outputs": [],
   "source": []
  },
  {
   "cell_type": "code",
   "execution_count": 25,
   "id": "f26ab75d-2e10-4d00-b14c-2160eaa2821a",
   "metadata": {},
   "outputs": [],
   "source": [
    "# WAP to find the elements having '#' also print count\n",
    "list1=['Apple','Ball','CA#t','ab','cd','#ef']"
   ]
  },
  {
   "cell_type": "code",
   "execution_count": 26,
   "id": "39892da7-29a2-4f8b-87dd-16c96d60e245",
   "metadata": {},
   "outputs": [
    {
     "name": "stdout",
     "output_type": "stream",
     "text": [
      "CA#t\n",
      "#ef\n",
      "2\n"
     ]
    }
   ],
   "source": [
    "count=0\n",
    "for i in list1:\n",
    "    if '#' in i:\n",
    "        count+=1\n",
    "        print(i)\n",
    "print(count)    "
   ]
  },
  {
   "cell_type": "code",
   "execution_count": null,
   "id": "de0871a5-85a6-46fb-97da-e96521adf38c",
   "metadata": {},
   "outputs": [],
   "source": []
  },
  {
   "cell_type": "code",
   "execution_count": 27,
   "id": "49827966-9861-4899-9930-8e2d33952a25",
   "metadata": {},
   "outputs": [],
   "source": [
    "# retrive ball using index\n",
    "list1=[1,2,3,['a','ball']] # very very imp ===========> total 4 elements"
   ]
  },
  {
   "cell_type": "code",
   "execution_count": 28,
   "id": "376942ff-af75-4205-bddd-b7bf8352e694",
   "metadata": {},
   "outputs": [
    {
     "data": {
      "text/plain": [
       "'ball'"
      ]
     },
     "execution_count": 28,
     "metadata": {},
     "output_type": "execute_result"
    }
   ],
   "source": [
    "list1[3][1]"
   ]
  },
  {
   "cell_type": "code",
   "execution_count": 29,
   "id": "103d7202-ee33-4559-b388-6de738ad51e2",
   "metadata": {},
   "outputs": [],
   "source": [
    "list2=[[[['cherry']]]]"
   ]
  },
  {
   "cell_type": "code",
   "execution_count": 30,
   "id": "22129ec3-59a1-46e1-a5b3-5f1945265777",
   "metadata": {},
   "outputs": [
    {
     "data": {
      "text/plain": [
       "'cherry'"
      ]
     },
     "execution_count": 30,
     "metadata": {},
     "output_type": "execute_result"
    }
   ],
   "source": [
    "list2[0][0][0][0]"
   ]
  },
  {
   "cell_type": "code",
   "execution_count": 31,
   "id": "fb175eb1-77da-41ff-a852-2184884e12f8",
   "metadata": {},
   "outputs": [],
   "source": [
    "list3=[[[['a','b',[[[1,2,3,['car']]]]]]]]"
   ]
  },
  {
   "cell_type": "code",
   "execution_count": 32,
   "id": "afece7b9-5fcd-4b36-af0a-da3705d784c0",
   "metadata": {},
   "outputs": [
    {
     "data": {
      "text/plain": [
       "['car']"
      ]
     },
     "execution_count": 32,
     "metadata": {},
     "output_type": "execute_result"
    }
   ],
   "source": [
    "list3[0][0][0][2][0][0][3]"
   ]
  },
  {
   "cell_type": "code",
   "execution_count": null,
   "id": "6c518d5e-ebb1-40d4-a1ab-bd9e6176dc89",
   "metadata": {},
   "outputs": [],
   "source": []
  },
  {
   "cell_type": "code",
   "execution_count": 33,
   "id": "7e042cf3-0e59-4870-90b5-69a4d35ceae3",
   "metadata": {},
   "outputs": [],
   "source": [
    "list1=[1,2,3]"
   ]
  },
  {
   "cell_type": "code",
   "execution_count": 34,
   "id": "61ff8906-3093-479c-887e-b1cf29c53d85",
   "metadata": {},
   "outputs": [
    {
     "data": {
      "text/plain": [
       "[1, 2, 100]"
      ]
     },
     "execution_count": 34,
     "metadata": {},
     "output_type": "execute_result"
    }
   ],
   "source": [
    "list1[2]=100                     # list is mutable\n",
    "list1"
   ]
  },
  {
   "cell_type": "code",
   "execution_count": null,
   "id": "2d73544b-3fac-4fdb-9645-cbd23f158c47",
   "metadata": {},
   "outputs": [],
   "source": []
  },
  {
   "cell_type": "markdown",
   "id": "a4263d84-c159-4887-ab06-f6c3b6bb02ad",
   "metadata": {
    "jp-MarkdownHeadingCollapsed": true
   },
   "source": [
    "# slicing"
   ]
  },
  {
   "cell_type": "code",
   "execution_count": 35,
   "id": "bfa43f59-0512-4072-ad02-b7569762d4d9",
   "metadata": {},
   "outputs": [],
   "source": [
    "list1=[1,2,3,4,5,'p','y','t','h','o','n']"
   ]
  },
  {
   "cell_type": "code",
   "execution_count": 36,
   "id": "746d9a11-9874-4a94-ba28-48b857b83df7",
   "metadata": {},
   "outputs": [
    {
     "data": {
      "text/plain": [
       "[3, 4, 5, 'p', 'y', 't', 'h', 'o', 'n']"
      ]
     },
     "execution_count": 36,
     "metadata": {},
     "output_type": "execute_result"
    }
   ],
   "source": [
    "list1[2:13]"
   ]
  },
  {
   "cell_type": "code",
   "execution_count": 37,
   "id": "65aa4384-83a4-4c24-b755-69d48523f705",
   "metadata": {},
   "outputs": [
    {
     "data": {
      "text/plain": [
       "[3, 'p', 'h']"
      ]
     },
     "execution_count": 37,
     "metadata": {},
     "output_type": "execute_result"
    }
   ],
   "source": [
    "list1[2:10:3]"
   ]
  },
  {
   "cell_type": "code",
   "execution_count": null,
   "id": "4fb53a79-1796-4244-b786-2a62a68509a0",
   "metadata": {},
   "outputs": [],
   "source": []
  },
  {
   "cell_type": "markdown",
   "id": "3d2a31ee-54fa-4237-8ea7-d05243eb01c0",
   "metadata": {
    "jp-MarkdownHeadingCollapsed": true
   },
   "source": [
    "# methods of list ==> dir([])"
   ]
  },
  {
   "cell_type": "code",
   "execution_count": 38,
   "id": "1ee8f5b0-001b-4edf-8b30-da2ff1884522",
   "metadata": {},
   "outputs": [
    {
     "data": {
      "text/plain": [
       "['__add__',\n",
       " '__class__',\n",
       " '__class_getitem__',\n",
       " '__contains__',\n",
       " '__delattr__',\n",
       " '__delitem__',\n",
       " '__dir__',\n",
       " '__doc__',\n",
       " '__eq__',\n",
       " '__format__',\n",
       " '__ge__',\n",
       " '__getattribute__',\n",
       " '__getitem__',\n",
       " '__gt__',\n",
       " '__hash__',\n",
       " '__iadd__',\n",
       " '__imul__',\n",
       " '__init__',\n",
       " '__init_subclass__',\n",
       " '__iter__',\n",
       " '__le__',\n",
       " '__len__',\n",
       " '__lt__',\n",
       " '__mul__',\n",
       " '__ne__',\n",
       " '__new__',\n",
       " '__reduce__',\n",
       " '__reduce_ex__',\n",
       " '__repr__',\n",
       " '__reversed__',\n",
       " '__rmul__',\n",
       " '__setattr__',\n",
       " '__setitem__',\n",
       " '__sizeof__',\n",
       " '__str__',\n",
       " '__subclasshook__',\n",
       " 'append',\n",
       " 'clear',\n",
       " 'copy',\n",
       " 'count',\n",
       " 'extend',\n",
       " 'index',\n",
       " 'insert',\n",
       " 'pop',\n",
       " 'remove',\n",
       " 'reverse',\n",
       " 'sort']"
      ]
     },
     "execution_count": 38,
     "metadata": {},
     "output_type": "execute_result"
    }
   ],
   "source": [
    "dir([])"
   ]
  },
  {
   "cell_type": "code",
   "execution_count": null,
   "id": "41b5c409-191c-4603-88df-39edf51af736",
   "metadata": {},
   "outputs": [],
   "source": []
  },
  {
   "cell_type": "markdown",
   "id": "64470a56-e49f-48d3-972d-054bd2f32155",
   "metadata": {
    "jp-MarkdownHeadingCollapsed": true
   },
   "source": [
    "# copy()"
   ]
  },
  {
   "cell_type": "code",
   "execution_count": 39,
   "id": "67815202-51d1-4b31-817f-da700f487667",
   "metadata": {},
   "outputs": [],
   "source": [
    "list1=[1,2,3,4]"
   ]
  },
  {
   "cell_type": "code",
   "execution_count": 40,
   "id": "0a1f041b-e883-4e06-b725-9f91eeb74e02",
   "metadata": {},
   "outputs": [
    {
     "data": {
      "text/plain": [
       "[1, 2, 3, 4]"
      ]
     },
     "execution_count": 40,
     "metadata": {},
     "output_type": "execute_result"
    }
   ],
   "source": [
    "list2=list1.copy()\n",
    "list2"
   ]
  },
  {
   "cell_type": "markdown",
   "id": "6c50f94d-de40-4f99-9946-eb8651587f74",
   "metadata": {
    "jp-MarkdownHeadingCollapsed": true
   },
   "source": [
    "# clear"
   ]
  },
  {
   "cell_type": "code",
   "execution_count": 41,
   "id": "cc5a41c9-1389-414c-ae21-ccb2b47e5311",
   "metadata": {},
   "outputs": [
    {
     "data": {
      "text/plain": [
       "[]"
      ]
     },
     "execution_count": 41,
     "metadata": {},
     "output_type": "execute_result"
    }
   ],
   "source": [
    "list2.clear()\n",
    "list2"
   ]
  },
  {
   "cell_type": "code",
   "execution_count": null,
   "id": "0f2df6e8-db0c-4eae-b7d6-ddc595047ec0",
   "metadata": {},
   "outputs": [],
   "source": []
  },
  {
   "cell_type": "markdown",
   "id": "c913db19-f59c-4b8d-bb83-d05768a0d2db",
   "metadata": {},
   "source": [
    "# append()"
   ]
  },
  {
   "cell_type": "code",
   "execution_count": 42,
   "id": "2f6ffca5-0f8e-4909-9ea5-eceeeff604ae",
   "metadata": {},
   "outputs": [],
   "source": [
    "list1=[1,2,3,4]"
   ]
  },
  {
   "cell_type": "code",
   "execution_count": 43,
   "id": "49be979a-a81e-438d-8ed4-d4eb4c561130",
   "metadata": {},
   "outputs": [],
   "source": [
    "list1.append(12)"
   ]
  },
  {
   "cell_type": "code",
   "execution_count": 44,
   "id": "d26fd5e3-2edd-4660-afcb-5c05bd56be4e",
   "metadata": {},
   "outputs": [
    {
     "data": {
      "text/plain": [
       "[1, 2, 3, 4, 12]"
      ]
     },
     "execution_count": 44,
     "metadata": {},
     "output_type": "execute_result"
    }
   ],
   "source": [
    "list1"
   ]
  },
  {
   "cell_type": "code",
   "execution_count": 45,
   "id": "61a7b1ac-f7ed-4c6b-9b3b-8ad622b0d806",
   "metadata": {},
   "outputs": [
    {
     "data": {
      "text/plain": [
       "[1, 21, 13]"
      ]
     },
     "execution_count": 45,
     "metadata": {},
     "output_type": "execute_result"
    }
   ],
   "source": [
    "list1=[]\n",
    "list1.append(1)\n",
    "list1.append(21)\n",
    "list1.append(13)\n",
    "list1\n"
   ]
  },
  {
   "cell_type": "code",
   "execution_count": null,
   "id": "88dae49e-18fe-4c46-8275-2b8902fa204e",
   "metadata": {},
   "outputs": [],
   "source": []
  },
  {
   "cell_type": "code",
   "execution_count": 49,
   "id": "61c8ca91-c367-4ace-9bf8-ea4f357bb70a",
   "metadata": {},
   "outputs": [],
   "source": [
    "# input list = [1,2,3,4,5]\n",
    "# output list =[1,4,9,16,25]\n",
    "\n",
    "# save the output in a new list           ================> important"
   ]
  },
  {
   "cell_type": "code",
   "execution_count": 47,
   "id": "9a2ef627-855e-4103-97dd-d888ae66ef32",
   "metadata": {},
   "outputs": [],
   "source": [
    "list1=[1,2,3,4,5]"
   ]
  },
  {
   "cell_type": "code",
   "execution_count": 48,
   "id": "3f6cd326-e958-47a6-9857-9e667aee93c6",
   "metadata": {},
   "outputs": [
    {
     "name": "stdout",
     "output_type": "stream",
     "text": [
      "1\n",
      "4\n",
      "9\n",
      "16\n",
      "25\n"
     ]
    }
   ],
   "source": [
    "for i in list1:\n",
    "    print(i**2)"
   ]
  },
  {
   "cell_type": "code",
   "execution_count": null,
   "id": "5636d75d-0eef-4574-a778-109bf0a28ad9",
   "metadata": {},
   "outputs": [],
   "source": []
  },
  {
   "cell_type": "code",
   "execution_count": 53,
   "id": "c8ed995c-567d-4616-91c6-257a796fe9c1",
   "metadata": {},
   "outputs": [
    {
     "name": "stdout",
     "output_type": "stream",
     "text": [
      "[1, 4, 9, 16, 25]\n"
     ]
    }
   ],
   "source": [
    "list1=[1,2,3,4,5]\n",
    "output=[]\n",
    "for i in list1:\n",
    "    output.append(i**2)                              #  ========>imp\n",
    "print (output)"
   ]
  },
  {
   "cell_type": "code",
   "execution_count": null,
   "id": "0bb12481-30f0-44cf-a39a-2a17008bfaf3",
   "metadata": {},
   "outputs": [],
   "source": []
  },
  {
   "cell_type": "code",
   "execution_count": 54,
   "id": "0fcde3e9-cd7e-4b52-be9e-297227fed62f",
   "metadata": {},
   "outputs": [],
   "source": [
    "list2=['hyd','bengaluru','delhi']\n",
    "#output=['Hyd','Bengaluru','Delhi']\n"
   ]
  },
  {
   "cell_type": "code",
   "execution_count": 57,
   "id": "1102b75e-2824-42b8-bc13-f5f5ad38bacb",
   "metadata": {},
   "outputs": [
    {
     "name": "stdout",
     "output_type": "stream",
     "text": [
      "['Hyd', 'Bengaluru', 'Delhi']\n"
     ]
    }
   ],
   "source": [
    "output=[]\n",
    "for i in list2:\n",
    "    output.append(i.capitalize())\n",
    "print(output)"
   ]
  },
  {
   "cell_type": "code",
   "execution_count": null,
   "id": "5971f94d-3a31-41a0-b7fd-9d45180b1952",
   "metadata": {},
   "outputs": [],
   "source": []
  },
  {
   "cell_type": "code",
   "execution_count": 58,
   "id": "07cdd274-b53e-4958-8e7d-5c20fc084b97",
   "metadata": {},
   "outputs": [],
   "source": [
    "# list3={'h#d','beng#luru','delhi'}\n",
    "# output={'h#d','beng#luru'}"
   ]
  },
  {
   "cell_type": "code",
   "execution_count": 59,
   "id": "19d8bd00-eab5-4e36-8a67-f5965eb6d631",
   "metadata": {},
   "outputs": [],
   "source": [
    "list3={'h#d','beng#luru','delhi'}"
   ]
  },
  {
   "cell_type": "code",
   "execution_count": 60,
   "id": "927d5579-96ca-41dc-89fb-a8880fddd55d",
   "metadata": {},
   "outputs": [
    {
     "name": "stdout",
     "output_type": "stream",
     "text": [
      "['h#d', 'beng#luru']\n"
     ]
    }
   ],
   "source": [
    "output=[]\n",
    "for i in list3:\n",
    "    if '#'in i:\n",
    "        output.append(i)\n",
    "print(output)"
   ]
  },
  {
   "cell_type": "code",
   "execution_count": null,
   "id": "4384b7b5-5071-4743-9671-8559ed5a9a2c",
   "metadata": {},
   "outputs": [],
   "source": []
  },
  {
   "cell_type": "code",
   "execution_count": null,
   "id": "144de006-5992-47fe-991d-98c7518e90d3",
   "metadata": {},
   "outputs": [],
   "source": []
  },
  {
   "cell_type": "markdown",
   "id": "3266295f-4e50-41dc-9cc1-b323ede9a78a",
   "metadata": {},
   "source": [
    "# list comprehension == > code in a single line step1 and step3 is not required\n",
    "# - output = [ _output_    for_loop    if_condition]"
   ]
  },
  {
   "cell_type": "code",
   "execution_count": 62,
   "id": "ada10b82-4fd0-4615-9f3f-db56b67c60f7",
   "metadata": {},
   "outputs": [
    {
     "name": "stdout",
     "output_type": "stream",
     "text": [
      "[1, 4, 9, 16, 25]\n"
     ]
    }
   ],
   "source": [
    "list1=[1,2,3,4,5]\n",
    "output=[]                        # step 1 initialized an empty list\n",
    "for i in list1:                  # step 2 iterate the loop \n",
    "    output.append(i**2)                              #  ========>imp\n",
    "print (output)                   #step 3 save the output"
   ]
  },
  {
   "cell_type": "code",
   "execution_count": 64,
   "id": "7f904a9f-79dc-4bd4-8e9c-cd175cfc347b",
   "metadata": {},
   "outputs": [
    {
     "data": {
      "text/plain": [
       "[1, 4, 9, 16, 25]"
      ]
     },
     "execution_count": 64,
     "metadata": {},
     "output_type": "execute_result"
    }
   ],
   "source": [
    "output=[i**2 for i in list1]\n",
    "output"
   ]
  },
  {
   "cell_type": "code",
   "execution_count": null,
   "id": "4ebe004c-7cd2-4cf9-a806-fd7fae2c7068",
   "metadata": {},
   "outputs": [],
   "source": []
  },
  {
   "cell_type": "code",
   "execution_count": 67,
   "id": "43b0730d-a4e8-48eb-a401-71b2b32b6089",
   "metadata": {},
   "outputs": [],
   "source": [
    "list2=['hyd','bengaluru','delhi']\n",
    "#output=['Hyd','Bengaluru','Delhi']"
   ]
  },
  {
   "cell_type": "code",
   "execution_count": 70,
   "id": "bcea26db-2fac-44d8-b40e-62492b7fadc0",
   "metadata": {},
   "outputs": [
    {
     "data": {
      "text/plain": [
       "['Hyd', 'Bengaluru', 'Delhi']"
      ]
     },
     "execution_count": 70,
     "metadata": {},
     "output_type": "execute_result"
    }
   ],
   "source": [
    "output= [i.capitalize() for i in list2 ]\n",
    "output"
   ]
  },
  {
   "cell_type": "code",
   "execution_count": 71,
   "id": "028031d5-320f-49e8-8153-310ae406fd66",
   "metadata": {},
   "outputs": [],
   "source": [
    "# create a list of 20 numbers"
   ]
  },
  {
   "cell_type": "code",
   "execution_count": 73,
   "id": "975af904-465e-4b7c-ba91-7dc7dd409bc6",
   "metadata": {},
   "outputs": [
    {
     "data": {
      "text/plain": [
       "[0, 1, 2, 3, 4, 5, 6, 7, 8, 9, 10, 11, 12, 13, 14, 15, 16, 17, 18, 19, 20]"
      ]
     },
     "execution_count": 73,
     "metadata": {},
     "output_type": "execute_result"
    }
   ],
   "source": [
    "output=[i for i in range(21)]\n",
    "output"
   ]
  },
  {
   "cell_type": "code",
   "execution_count": null,
   "id": "bb724577-2ab7-4604-ac29-ba051cc15989",
   "metadata": {},
   "outputs": [],
   "source": []
  },
  {
   "cell_type": "code",
   "execution_count": 74,
   "id": "dcdd6604-7ffa-4fc9-a7a5-436a44506f73",
   "metadata": {},
   "outputs": [],
   "source": [
    "# list3={'h#d','beng#luru','delhi'}\n",
    "# output={'h#d','beng#luru'}"
   ]
  },
  {
   "cell_type": "code",
   "execution_count": 76,
   "id": "5e6a8858-3cf3-4456-af83-34e2ca041b50",
   "metadata": {},
   "outputs": [
    {
     "data": {
      "text/plain": [
       "['h#d', 'beng#luru']"
      ]
     },
     "execution_count": 76,
     "metadata": {},
     "output_type": "execute_result"
    }
   ],
   "source": [
    "output=[i for i in list3 if '#' in i]\n",
    "output"
   ]
  },
  {
   "cell_type": "code",
   "execution_count": null,
   "id": "a8c0e64b-5137-467c-b885-dfe5df9d9b5a",
   "metadata": {},
   "outputs": [],
   "source": []
  },
  {
   "cell_type": "code",
   "execution_count": 80,
   "id": "d86ce4c9-15b4-4911-a4c2-cd9595ff58d7",
   "metadata": {},
   "outputs": [],
   "source": [
    "list4=['abcd','abc','ac','a']\n",
    "# output elements less than 3"
   ]
  },
  {
   "cell_type": "code",
   "execution_count": 83,
   "id": "c09e0b78-0d8b-4a45-8ac0-d66ab6ab9cb3",
   "metadata": {},
   "outputs": [
    {
     "data": {
      "text/plain": [
       "['ac', 'a']"
      ]
     },
     "execution_count": 83,
     "metadata": {},
     "output_type": "execute_result"
    }
   ],
   "source": [
    "output=[i for i in list4 if (len(i))<3]\n",
    "output"
   ]
  },
  {
   "cell_type": "code",
   "execution_count": null,
   "id": "a94f2299-d869-4db9-a1b7-68516e2b0250",
   "metadata": {},
   "outputs": [],
   "source": []
  },
  {
   "cell_type": "code",
   "execution_count": 84,
   "id": "d32650d1-c070-4470-aee0-35b57dc35ddd",
   "metadata": {},
   "outputs": [],
   "source": [
    "# find even and odd and put in seperate list\n",
    "list1=[1,2,3,4,5,6,7,8,9,10]"
   ]
  },
  {
   "cell_type": "code",
   "execution_count": 88,
   "id": "647c1708-f86e-4310-8d4b-8fd60e69cec0",
   "metadata": {},
   "outputs": [
    {
     "name": "stdout",
     "output_type": "stream",
     "text": [
      "[2, 4, 6, 8, 10]\n",
      "[1, 3, 5, 7, 9]\n"
     ]
    }
   ],
   "source": [
    "output_even=[i for i in list1 if i%2==0]\n",
    "output_odd=[i for i in list1 if i%2!=0]\n",
    "print(output_even)\n",
    "print(output_odd)"
   ]
  },
  {
   "cell_type": "markdown",
   "id": "10705a8e-a13a-418f-93dc-dd58e0ac87ca",
   "metadata": {},
   "source": [
    "# output=[output if_condition else else_output for_loop]   =============> vvi"
   ]
  },
  {
   "cell_type": "code",
   "execution_count": 94,
   "id": "38a9ee49-f733-4942-8dae-6417030f8d49",
   "metadata": {},
   "outputs": [
    {
     "data": {
      "text/plain": [
       "['odd:1',\n",
       " 'even:2',\n",
       " 'odd:3',\n",
       " 'even:4',\n",
       " 'odd:5',\n",
       " 'even:6',\n",
       " 'odd:7',\n",
       " 'even:8',\n",
       " 'odd:9',\n",
       " 'even:10']"
      ]
     },
     "execution_count": 94,
     "metadata": {},
     "output_type": "execute_result"
    }
   ],
   "source": [
    "output=[(\"even:{}\".format(i)) if i%2==0 else (\"odd:{}\".format(i)) for i in list1]\n",
    "output"
   ]
  },
  {
   "cell_type": "code",
   "execution_count": null,
   "id": "8e9829d0-b1da-4950-a5db-2d7dbced4235",
   "metadata": {},
   "outputs": [],
   "source": []
  },
  {
   "cell_type": "code",
   "execution_count": 91,
   "id": "30aa1c3c-5977-40fb-b24a-13b2e25f37a3",
   "metadata": {},
   "outputs": [
    {
     "name": "stdout",
     "output_type": "stream",
     "text": [
      "['even:2', 'even:4', 'even:6', 'even:8', 'even:10']\n",
      "['odd:1', 'odd:3', 'odd:5', 'odd:7', 'odd:9']\n"
     ]
    }
   ],
   "source": [
    "#using for loop\n",
    "odd_opt=[]\n",
    "even_opt=[]\n",
    "for i in list1:\n",
    "    if i in  list1:\n",
    "        if i%2==0:\n",
    "            even_opt.append(\"even:{}\".format(i))\n",
    "        else:\n",
    "            odd_opt.append(\"odd:{}\".format(i))\n",
    "print(even_opt)\n",
    "print(odd_opt)"
   ]
  },
  {
   "cell_type": "code",
   "execution_count": null,
   "id": "d15ad807-01d0-4932-afbd-25f4f0400612",
   "metadata": {},
   "outputs": [],
   "source": []
  },
  {
   "cell_type": "code",
   "execution_count": null,
   "id": "bb7fb71c-8f35-4335-958a-bacd2a37422e",
   "metadata": {},
   "outputs": [],
   "source": []
  },
  {
   "cell_type": "markdown",
   "id": "5cf576b6-7b79-4ab3-ac93-506a4265f0aa",
   "metadata": {},
   "source": [
    "# Count()"
   ]
  },
  {
   "cell_type": "code",
   "execution_count": 97,
   "id": "b361468a-e2df-4127-b291-bc4292d1e514",
   "metadata": {},
   "outputs": [],
   "source": [
    "list1=[1,2,3,4,5,1,1,1,13,3]"
   ]
  },
  {
   "cell_type": "code",
   "execution_count": 98,
   "id": "3a050ce7-30c8-4b13-a96e-db29168ac228",
   "metadata": {},
   "outputs": [
    {
     "data": {
      "text/plain": [
       "4"
      ]
     },
     "execution_count": 98,
     "metadata": {},
     "output_type": "execute_result"
    }
   ],
   "source": [
    "list1.count(1)"
   ]
  },
  {
   "cell_type": "code",
   "execution_count": 99,
   "id": "44697f7d-3b9b-4621-adfe-a97e717687b1",
   "metadata": {},
   "outputs": [
    {
     "name": "stdout",
     "output_type": "stream",
     "text": [
      "4\n"
     ]
    }
   ],
   "source": [
    "c=0\n",
    "for i in list1:\n",
    "    if i==1:\n",
    "        c+=1\n",
    "print(c)"
   ]
  },
  {
   "cell_type": "code",
   "execution_count": null,
   "id": "29df87fc-aa95-455e-8fbc-752b4c8b75be",
   "metadata": {},
   "outputs": [],
   "source": []
  },
  {
   "cell_type": "markdown",
   "id": "b995c71b-0dce-40bb-a5ec-5a52734d6f25",
   "metadata": {},
   "source": [
    "# Extend()"
   ]
  },
  {
   "cell_type": "code",
   "execution_count": 117,
   "id": "7076b68e-107d-4e38-8457-99f93ac1e280",
   "metadata": {},
   "outputs": [],
   "source": [
    "list1=[1,2,3,4]\n",
    "list2=['a','b','c','d']"
   ]
  },
  {
   "cell_type": "code",
   "execution_count": 118,
   "id": "1cfec9bb-dfab-4f66-9935-0bc6a3631fe0",
   "metadata": {},
   "outputs": [],
   "source": [
    "list1.extend(list2)"
   ]
  },
  {
   "cell_type": "code",
   "execution_count": 119,
   "id": "24228a5f-a467-4549-b051-1953273da4a0",
   "metadata": {},
   "outputs": [
    {
     "data": {
      "text/plain": [
       "[1, 2, 3, 4, 'a', 'b', 'c', 'd']"
      ]
     },
     "execution_count": 119,
     "metadata": {},
     "output_type": "execute_result"
    }
   ],
   "source": [
    "list1"
   ]
  },
  {
   "cell_type": "code",
   "execution_count": null,
   "id": "7288823a-2b5b-4c8c-a73a-b235cdf2eaa7",
   "metadata": {},
   "outputs": [],
   "source": []
  },
  {
   "cell_type": "markdown",
   "id": "297db32f-47fc-4458-aca6-cb4a7578dd99",
   "metadata": {},
   "source": [
    "# append vs extend vs concat\n",
    "- append will add element at last\n",
    "- extend will update the list by adding new values if list2 into in same list1\n",
    "- Concat will add two list but the result will not update in same list"
   ]
  },
  {
   "cell_type": "code",
   "execution_count": null,
   "id": "ae2a0c6d-e43b-4eaa-b0c5-c871b3c5e73f",
   "metadata": {},
   "outputs": [],
   "source": []
  },
  {
   "cell_type": "markdown",
   "id": "a56f224b-7fad-4b61-9aed-5cd6e8af0f2d",
   "metadata": {},
   "source": [
    "# pop() remove() del()\n",
    "- pop() removes last item from list and returns it\n",
    "- pop(i) removes item at index i and returns it\n",
    "\n",
    "# remove()\n",
    "- remove('a') removes element 'a' if present in the list and does not return it\n",
    "\n",
    "# del()\n",
    "- deletes the list"
   ]
  },
  {
   "cell_type": "code",
   "execution_count": 120,
   "id": "62582261-6f01-4845-b05b-bd71ce1e6e46",
   "metadata": {},
   "outputs": [
    {
     "data": {
      "text/plain": [
       "[1, 2, 3, 4, 'a', 'b', 'c', 'd']"
      ]
     },
     "execution_count": 120,
     "metadata": {},
     "output_type": "execute_result"
    }
   ],
   "source": [
    "list1"
   ]
  },
  {
   "cell_type": "code",
   "execution_count": 121,
   "id": "5b18d064-868f-4500-b464-56ca1a56046f",
   "metadata": {},
   "outputs": [
    {
     "data": {
      "text/plain": [
       "'d'"
      ]
     },
     "execution_count": 121,
     "metadata": {},
     "output_type": "execute_result"
    }
   ],
   "source": [
    "list1.pop()"
   ]
  },
  {
   "cell_type": "code",
   "execution_count": 122,
   "id": "8964f263-8f25-4c85-a608-1c7c4859acf8",
   "metadata": {},
   "outputs": [
    {
     "data": {
      "text/plain": [
       "4"
      ]
     },
     "execution_count": 122,
     "metadata": {},
     "output_type": "execute_result"
    }
   ],
   "source": [
    "list1.pop(3)"
   ]
  },
  {
   "cell_type": "code",
   "execution_count": 123,
   "id": "72e3c273-fc67-4eb3-805e-40dfa3484364",
   "metadata": {},
   "outputs": [
    {
     "data": {
      "text/plain": [
       "[1, 2, 3, 'a', 'b', 'c']"
      ]
     },
     "execution_count": 123,
     "metadata": {},
     "output_type": "execute_result"
    }
   ],
   "source": [
    "list1"
   ]
  },
  {
   "cell_type": "code",
   "execution_count": 125,
   "id": "4cd16a5b-64a0-4deb-ac19-df500ac65f4f",
   "metadata": {},
   "outputs": [],
   "source": [
    "list1.remove('a')"
   ]
  },
  {
   "cell_type": "code",
   "execution_count": 126,
   "id": "5a05b88d-6577-49cf-9960-00626e2d4ca8",
   "metadata": {},
   "outputs": [
    {
     "data": {
      "text/plain": [
       "[1, 2, 3, 'b', 'c']"
      ]
     },
     "execution_count": 126,
     "metadata": {},
     "output_type": "execute_result"
    }
   ],
   "source": [
    "list1"
   ]
  },
  {
   "cell_type": "code",
   "execution_count": null,
   "id": "826da1e1-3e52-4e49-8f85-c5cc79227e24",
   "metadata": {},
   "outputs": [],
   "source": []
  },
  {
   "cell_type": "code",
   "execution_count": 127,
   "id": "bde309df-32b9-4dab-9bff-c0c05ba4c00f",
   "metadata": {},
   "outputs": [],
   "source": [
    "del(list1)"
   ]
  },
  {
   "cell_type": "code",
   "execution_count": 128,
   "id": "c3046386-bd10-4dca-bc8b-becf8ff889b4",
   "metadata": {},
   "outputs": [
    {
     "ename": "NameError",
     "evalue": "name 'list1' is not defined",
     "output_type": "error",
     "traceback": [
      "\u001b[1;31m---------------------------------------------------------------------------\u001b[0m",
      "\u001b[1;31mNameError\u001b[0m                                 Traceback (most recent call last)",
      "Cell \u001b[1;32mIn[128], line 1\u001b[0m\n\u001b[1;32m----> 1\u001b[0m \u001b[43mlist1\u001b[49m\n",
      "\u001b[1;31mNameError\u001b[0m: name 'list1' is not defined"
     ]
    }
   ],
   "source": [
    "list1"
   ]
  },
  {
   "cell_type": "markdown",
   "id": "ff1f0089-592c-40a5-9c61-67e28225b356",
   "metadata": {},
   "source": [
    "- index\n",
    "- insert\n",
    "- reverse\n",
    "- sort"
   ]
  },
  {
   "cell_type": "code",
   "execution_count": 142,
   "id": "018eb2db-bfd0-4b83-8873-60a8dd506892",
   "metadata": {},
   "outputs": [],
   "source": [
    "list1=[1,2,3,5,3,6]\n",
    "list1.reverse()"
   ]
  },
  {
   "cell_type": "code",
   "execution_count": 143,
   "id": "8b83a34b-0db4-46bf-9267-0f5e9aff67a0",
   "metadata": {},
   "outputs": [
    {
     "data": {
      "text/plain": [
       "[6, 3, 5, 3, 2, 1]"
      ]
     },
     "execution_count": 143,
     "metadata": {},
     "output_type": "execute_result"
    }
   ],
   "source": [
    "list1"
   ]
  },
  {
   "cell_type": "code",
   "execution_count": 144,
   "id": "ef69c1fe-9f05-4760-9b25-512afa394133",
   "metadata": {},
   "outputs": [],
   "source": [
    "list1.sort() #sort in ascending"
   ]
  },
  {
   "cell_type": "code",
   "execution_count": 145,
   "id": "8c533580-d630-4210-8d11-568e50278a38",
   "metadata": {},
   "outputs": [
    {
     "data": {
      "text/plain": [
       "[1, 2, 3, 3, 5, 6]"
      ]
     },
     "execution_count": 145,
     "metadata": {},
     "output_type": "execute_result"
    }
   ],
   "source": [
    "list1"
   ]
  },
  {
   "cell_type": "code",
   "execution_count": 146,
   "id": "a3128066-6364-4619-b27b-44a983907f00",
   "metadata": {},
   "outputs": [],
   "source": [
    "list1.sort(reverse=True)"
   ]
  },
  {
   "cell_type": "code",
   "execution_count": 147,
   "id": "72427e05-d93b-4319-b58d-e11c127c9eba",
   "metadata": {},
   "outputs": [
    {
     "data": {
      "text/plain": [
       "[6, 5, 3, 3, 2, 1]"
      ]
     },
     "execution_count": 147,
     "metadata": {},
     "output_type": "execute_result"
    }
   ],
   "source": [
    "list1"
   ]
  },
  {
   "cell_type": "code",
   "execution_count": 135,
   "id": "8eac1025-5973-45ac-9597-6a7d04681a25",
   "metadata": {},
   "outputs": [],
   "source": [
    "list1.insert(2,\"a\")"
   ]
  },
  {
   "cell_type": "code",
   "execution_count": 136,
   "id": "cbdb41b3-751c-418e-ab98-91b5e2775708",
   "metadata": {},
   "outputs": [
    {
     "data": {
      "text/plain": [
       "[1, 2, 'a', 3, 3, 5, 6]"
      ]
     },
     "execution_count": 136,
     "metadata": {},
     "output_type": "execute_result"
    }
   ],
   "source": [
    "list1"
   ]
  },
  {
   "cell_type": "code",
   "execution_count": 138,
   "id": "ffda4c5a-8a2c-4843-bfad-f120dc1fe4ee",
   "metadata": {},
   "outputs": [
    {
     "data": {
      "text/plain": [
       "2"
      ]
     },
     "execution_count": 138,
     "metadata": {},
     "output_type": "execute_result"
    }
   ],
   "source": [
    "list1.index('a')"
   ]
  },
  {
   "cell_type": "code",
   "execution_count": null,
   "id": "bafc4fec-b47b-4c7a-8fd0-c6944f6170f4",
   "metadata": {},
   "outputs": [],
   "source": []
  },
  {
   "cell_type": "code",
   "execution_count": 149,
   "id": "88ea0583-63f3-4d6f-a199-31fe80d32d6e",
   "metadata": {},
   "outputs": [],
   "source": [
    "list1=['a','b','c']\n",
    "list2=['1','2','3']\n",
    "# output =a is 1 b is 2 c is 3"
   ]
  },
  {
   "cell_type": "code",
   "execution_count": 150,
   "id": "10ed3213-28c2-4fd3-b49f-c515c7bf0a7b",
   "metadata": {},
   "outputs": [
    {
     "name": "stdout",
     "output_type": "stream",
     "text": [
      "a is 1\n",
      "a is 2\n",
      "a is 3\n",
      "b is 1\n",
      "b is 2\n",
      "b is 3\n",
      "c is 1\n",
      "c is 2\n",
      "c is 3\n"
     ]
    }
   ],
   "source": [
    "for i in list1:\n",
    "    for j in list2:\n",
    "        print(\"{} is {}\".format(i,j))"
   ]
  },
  {
   "cell_type": "code",
   "execution_count": null,
   "id": "cf1aaf4a-39a0-4996-8f79-d641001e8d7c",
   "metadata": {},
   "outputs": [],
   "source": []
  },
  {
   "cell_type": "code",
   "execution_count": 153,
   "id": "077dfffa-c31d-476a-9b88-fc80b62ccca4",
   "metadata": {},
   "outputs": [
    {
     "name": "stdout",
     "output_type": "stream",
     "text": [
      "a is 1\n",
      "b is 2\n",
      "c is 3\n"
     ]
    }
   ],
   "source": [
    "# zip(list1,list2)\n",
    "for i,j in zip(list1,list2):                               #=======> learn\n",
    "    print('{} is {}'.format(i,j))"
   ]
  },
  {
   "cell_type": "code",
   "execution_count": null,
   "id": "16ce7032-e220-417e-b5bb-762cab658699",
   "metadata": {},
   "outputs": [],
   "source": []
  },
  {
   "cell_type": "code",
   "execution_count": 158,
   "id": "13774b4c-aaa9-45b3-9e20-ca172c9609da",
   "metadata": {},
   "outputs": [],
   "source": [
    "list1=[10,20,30]\n",
    "list2=[10,20,30]\n",
    "#output=[20,40,60]"
   ]
  },
  {
   "cell_type": "code",
   "execution_count": 161,
   "id": "9055b5be-8b04-482e-9d3d-264dc11fcb06",
   "metadata": {},
   "outputs": [
    {
     "data": {
      "text/plain": [
       "[20, 40, 60]"
      ]
     },
     "execution_count": 161,
     "metadata": {},
     "output_type": "execute_result"
    }
   ],
   "source": [
    "output1=[]\n",
    "for i,j in zip(list1,list2):\n",
    "    \n",
    "    output1.append(i+j)\n",
    "output1"
   ]
  },
  {
   "cell_type": "code",
   "execution_count": 163,
   "id": "309d8286-78fc-4145-b7dc-9e9bc225099b",
   "metadata": {},
   "outputs": [
    {
     "data": {
      "text/plain": [
       "[20, 40, 60]"
      ]
     },
     "execution_count": 163,
     "metadata": {},
     "output_type": "execute_result"
    }
   ],
   "source": [
    "output2=[i+j for i,j in zip(list1,list2)]\n",
    "output2"
   ]
  },
  {
   "cell_type": "code",
   "execution_count": null,
   "id": "4364c775-ebfb-4c34-b64d-64fa77814882",
   "metadata": {},
   "outputs": [],
   "source": []
  }
 ],
 "metadata": {
  "kernelspec": {
   "display_name": "Python (myenv)",
   "language": "python",
   "name": "myenv"
  },
  "language_info": {
   "codemirror_mode": {
    "name": "ipython",
    "version": 3
   },
   "file_extension": ".py",
   "mimetype": "text/x-python",
   "name": "python",
   "nbconvert_exporter": "python",
   "pygments_lexer": "ipython3",
   "version": "3.10.16"
  }
 },
 "nbformat": 4,
 "nbformat_minor": 5
}
